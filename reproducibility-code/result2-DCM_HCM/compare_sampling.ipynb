{
 "cells": [
  {
   "cell_type": "code",
   "execution_count": null,
   "metadata": {},
   "outputs": [],
   "source": [
    "import pandas as pd\n",
    "import numpy as np\n",
    "import scanpy as sc\n",
    "from os.path import join as pj\n",
    "from sklearn.neighbors import BallTree\n",
    "from torch import nn\n",
    "import random\n",
    "import torch as th\n",
    "import os\n",
    "from tqdm import tqdm\n",
    "import time\n",
    "from scsampler import scsampler\n",
    "import matplotlib.pyplot as plt\n",
    "plt.rc('font', size=15)\n"
   ]
  },
  {
   "cell_type": "markdown",
   "metadata": {},
   "source": [
    "# define ball tree sampling (proposed)"
   ]
  },
  {
   "cell_type": "code",
   "execution_count": null,
   "metadata": {},
   "outputs": [],
   "source": [
    "def BallTreeSubsample(X, target_size, ls=10):\n",
    "    tree = BallTree(X, leaf_size = ls)\n",
    "    layer = int(np.log2(len(X)//ls))\n",
    "    # layer\n",
    "    t = [1]\n",
    "    for i in range(layer+1):\n",
    "        t.append(t[i]*2)\n",
    "    t = [i-1 for i in t]\n",
    "    t.sort(reverse=True)\n",
    "    # t\n",
    "    nodes = tree.get_arrays()[2]\n",
    "    order = tree.get_arrays()[1]\n",
    "    target = []\n",
    "    for l in range(layer):\n",
    "        # print('layer ', layer-l)\n",
    "        if len(target) < target_size:\n",
    "            s = (target_size - len(target)) // (t[l:l+2][0]- t[l:l+2][1])\n",
    "        else:\n",
    "            break\n",
    "        for node in nodes[t[l:l+2][1]:t[l:l+2][0]]:\n",
    "            \n",
    "            start_id = node[0]\n",
    "            end_id = node[1]\n",
    "            available_order = list(set(order[start_id:end_id])-set(target))\n",
    "            random.shuffle(available_order)\n",
    "            target.extend(available_order[0:s])\n",
    "    return target\n"
   ]
  },
  {
   "cell_type": "markdown",
   "metadata": {},
   "source": [
    "# read data to subsample"
   ]
  },
  {
   "cell_type": "code",
   "execution_count": null,
   "metadata": {},
   "outputs": [],
   "source": [
    "data = pd.DataFrame([])\n",
    "batch = []\n",
    "total = 0\n",
    "for i in range(42):\n",
    "    path = '../../../MIRACLE-reproducibility/result/dcm_hcm/offline/default/predict/subset_'+str(i)+'/z/joint/'\n",
    "    num = 0\n",
    "    print(i)\n",
    "    for j in tqdm(sorted(os.listdir(path))):\n",
    "        d = pd.read_csv(os.path.join(path, j), header=None, index_col=None)\n",
    "        d.index = d.index + total\n",
    "        data = pd.concat([data, d])\n",
    "        num += d.shape[0]\n",
    "        total += d.shape[0]\n",
    "    batch.extend([i for n in range(num)])\n",
    "\n",
    "adata = sc.AnnData(data.loc[:, :31])\n",
    "sc.pp.subsample(adata, n_obs=10000, random_state=42)\n",
    "adata"
   ]
  },
  {
   "cell_type": "code",
   "execution_count": null,
   "metadata": {},
   "outputs": [],
   "source": [
    "pd.DataFrame(adata.X, index=adata.obs_names).to_csv('./reference.csv')"
   ]
  },
  {
   "cell_type": "code",
   "execution_count": null,
   "metadata": {},
   "outputs": [],
   "source": [
    "# data = pd.read_csv('./reference.csv', index_col=0)\n",
    "# adata = sc.AnnData(data)\n",
    "# adata"
   ]
  },
  {
   "cell_type": "markdown",
   "metadata": {},
   "source": [
    "# experiment setting"
   ]
  },
  {
   "cell_type": "code",
   "execution_count": null,
   "metadata": {},
   "outputs": [],
   "source": [
    "num = [10000//pow(2,i) for i in range(1, 7)]\n",
    "repeat_num  = 50"
   ]
  },
  {
   "cell_type": "markdown",
   "metadata": {},
   "source": [
    "# random sampling"
   ]
  },
  {
   "cell_type": "code",
   "execution_count": null,
   "metadata": {},
   "outputs": [],
   "source": [
    "task = 'random'\n",
    "if not os.path.exists('./%s_result'%task):\n",
    "    os.mkdir('./%s_result'%task)\n",
    "for n in tqdm(num):\n",
    "    t = []\n",
    "    id = []\n",
    "    for i in range(repeat_num):\n",
    "        samples = [] \n",
    "        start = time.time()\n",
    "        adata_sub = sc.pp.subsample(adata, n_obs=n, random_state=i, copy=True)\n",
    "        end = time.time()\n",
    "        t.append(end - start)\n",
    "        id.append(adata_sub.obs_names)\n",
    "        pd.DataFrame(id).to_csv('./%s_result/sample_id_%d.csv'%(task, n))\n",
    "        pd.DataFrame(t).to_csv('./%s_result/sample_time_%d.csv'%(task, n))"
   ]
  },
  {
   "cell_type": "markdown",
   "metadata": {},
   "source": [
    "# ball tree sampling"
   ]
  },
  {
   "cell_type": "code",
   "execution_count": null,
   "metadata": {},
   "outputs": [],
   "source": [
    "task = 'ball-tree'\n",
    "if not os.path.exists('./%s_result'%task):\n",
    "    os.mkdir('./%s_result'%task)\n",
    "x = adata.X\n",
    "for n in tqdm(num):\n",
    "    t = []\n",
    "    id = []\n",
    "    for i in range(repeat_num):\n",
    "        samples = [] \n",
    "        start = time.time()\n",
    "        id_sample = BallTreeSubsample(x, n, ls=10)\n",
    "        end = time.time()\n",
    "        t.append(end - start)\n",
    "        id.append(id_sample)\n",
    "        pd.DataFrame(id).to_csv('./%s_result/sample_id_%d.csv'%(task, n))\n",
    "        pd.DataFrame(t).to_csv('./%s_result/sample_time_%d.csv'%(task, n))"
   ]
  },
  {
   "cell_type": "markdown",
   "metadata": {},
   "source": [
    "# scscampler"
   ]
  },
  {
   "cell_type": "code",
   "execution_count": null,
   "metadata": {},
   "outputs": [],
   "source": [
    "adata.obsm['X_emb'] = adata.X"
   ]
  },
  {
   "cell_type": "code",
   "execution_count": null,
   "metadata": {},
   "outputs": [],
   "source": [
    "task = 'scsampler'\n",
    "if not os.path.exists('./%s_result'%task):\n",
    "    os.mkdir('./%s_result'%task)\n",
    "for n in tqdm(num):\n",
    "    t = []\n",
    "    id = []\n",
    "    for i in range(repeat_num):\n",
    "        samples = [] \n",
    "        start = time.time()\n",
    "        adata_sub = scsampler(adata, n_obs=n, obsm = 'X_emb', copy = True, random_state=random.randint(1,100))\n",
    "        end = time.time()\n",
    "        t.append(end - start)\n",
    "        id.append(adata_sub.obs_names)\n",
    "        pd.DataFrame(id).to_csv('./%s_result/sample_id_%d.csv'%(task, n))\n",
    "        pd.DataFrame(t).to_csv('./%s_result/sample_time_%d.csv'%(task, n))"
   ]
  },
  {
   "cell_type": "markdown",
   "metadata": {},
   "source": [
    "# seurat sketch"
   ]
  },
  {
   "cell_type": "code",
   "execution_count": null,
   "metadata": {},
   "outputs": [],
   "source": [
    "task = 'seurat sketch'\n",
    "if not os.path.exists('compare_subsampling/%s_result'%task):\n",
    "    os.mkdir('compare_subsampling/%s_result'%task)"
   ]
  },
  {
   "cell_type": "code",
   "execution_count": null,
   "metadata": {},
   "outputs": [],
   "source": [
    "# run subsample_sketch.ipynb"
   ]
  },
  {
   "cell_type": "markdown",
   "metadata": {},
   "source": [
    "# compute metrics"
   ]
  },
  {
   "cell_type": "code",
   "execution_count": null,
   "metadata": {},
   "outputs": [],
   "source": [
    "data = pd.read_csv('reference.csv', header=0, index_col=0)\n",
    "adata = sc.AnnData(data)\n",
    "adata\n",
    "adata.obs_names = np.array(adata.obs_names).astype(str)"
   ]
  },
  {
   "cell_type": "code",
   "execution_count": null,
   "metadata": {},
   "outputs": [],
   "source": [
    "# https://github.com/ZongxianLee/MMD_Loss.Pytorch (with modifications)\n",
    "\n",
    "class MMD_loss(nn.Module):\n",
    "\tdef __init__(self, kernel_mul = 2.0, kernel_num = 5):\n",
    "\t\tsuper(MMD_loss, self).__init__()\n",
    "\t\tself.kernel_num = kernel_num\n",
    "\t\tself.kernel_mul = kernel_mul\n",
    "\t\tself.fix_sigma = None\n",
    "\t\treturn\n",
    "\tdef guassian_kernel(self, source, target, kernel_mul=2.0, kernel_num=5, fix_sigma=None):\n",
    "\t\tn_samples = int(source.size()[0])+int(target.size()[0])\n",
    "\t\ttotal = th.cat([source, target], dim=0)\n",
    "\n",
    "\t\ttotal0 = total.unsqueeze(0).expand(int(total.size(0)), int(total.size(0)), int(total.size(1)))\n",
    "\t\ttotal1 = total.unsqueeze(1).expand(int(total.size(0)), int(total.size(0)), int(total.size(1)))\n",
    "\t\tL2_distance = ((total0-total1)**2).sum(2) \n",
    "\t\tif fix_sigma:\n",
    "\t\t\tbandwidth = fix_sigma\n",
    "\t\telse:\n",
    "\t\t\tbandwidth = th.sum(L2_distance.data) / (n_samples**2-n_samples)\n",
    "\t\tbandwidth /= kernel_mul ** (kernel_num // 2)\n",
    "\t\tbandwidth_list = [bandwidth * (kernel_mul**i) for i in range(kernel_num)]\n",
    "\t\tkernel_val = [th.exp(-L2_distance / bandwidth_temp) for bandwidth_temp in bandwidth_list]\n",
    "\t\treturn sum(kernel_val)\n",
    "\tdef forward(self, source, target):\n",
    "\t\tbatch_size = int(source.size()[0])\n",
    "\t\tkernels = self.guassian_kernel(source, target, kernel_mul=self.kernel_mul, kernel_num=self.kernel_num, fix_sigma=self.fix_sigma)\n",
    "\t\tXX = kernels[:batch_size, :batch_size]\n",
    "\t\tYY = kernels[batch_size:, batch_size:]\n",
    "\t\tXY = kernels[:batch_size, batch_size:]\n",
    "\t\tYX = kernels[batch_size:, :batch_size]\n",
    "\t\tloss = th.mean(XX) + th.mean(YY) - th.mean(XY) -th.mean(YX)\n",
    "\t\treturn loss"
   ]
  },
  {
   "cell_type": "code",
   "execution_count": null,
   "metadata": {},
   "outputs": [],
   "source": [
    "mmd = MMD_loss()"
   ]
  },
  {
   "cell_type": "code",
   "execution_count": null,
   "metadata": {},
   "outputs": [],
   "source": [
    "task = 'random'\n",
    "dir = './%s_result/'%task\n",
    "mmd_list = {}\n",
    "for i in num:\n",
    "    mmd_list[i] = []\n",
    "    id = pd.read_csv(dir + 'sample_id_' + str(i)+'.csv', index_col=0)\n",
    "    for j in tqdm(range(len(id))):\n",
    "        d = id.iloc[j].values.astype('str')\n",
    "        mmd_list[i].append(mmd(th.from_numpy(adata.X), th.from_numpy(adata[d].X)).tolist())\n",
    "pd.DataFrame(mmd_list).to_csv('./%s_mmd.csv'%task)"
   ]
  },
  {
   "cell_type": "code",
   "execution_count": null,
   "metadata": {},
   "outputs": [],
   "source": [
    "task = 'scsampler'\n",
    "dir = './%s_result/'%task\n",
    "mmd_list = {}\n",
    "for i in num:\n",
    "    mmd_list[i] = []\n",
    "    id = pd.read_csv(dir + 'sample_id_' + str(i)+'.csv', index_col=0)\n",
    "    for j in tqdm(range(len(id))):\n",
    "        d = id.iloc[j].values.astype('str')\n",
    "        mmd_list[i].append(mmd(th.from_numpy(adata.X), th.from_numpy(adata[d].X)).tolist())\n",
    "pd.DataFrame(mmd_list).to_csv('./%s_mmd.csv'%task)"
   ]
  },
  {
   "cell_type": "code",
   "execution_count": null,
   "metadata": {},
   "outputs": [],
   "source": [
    "task = 'sketch'\n",
    "dir = './%s_result/'%task\n",
    "mmd_list = {}\n",
    "for i in num:\n",
    "    mmd_list[i] = []\n",
    "    id = pd.read_csv(dir + 'sample_id_' + str(i)+'.csv', index_col=0, header=0).T\n",
    "    for j in tqdm(range(len(id))):\n",
    "        d = id.iloc[j].values\n",
    "        mmd_list[i].append(mmd(th.from_numpy(adata.X), th.from_numpy(adata.X[d])).tolist())\n",
    "pd.DataFrame(mmd_list).to_csv('./%s_mmd.csv'%task)"
   ]
  },
  {
   "cell_type": "code",
   "execution_count": null,
   "metadata": {},
   "outputs": [],
   "source": [
    "fig = plt.figure(figsize=(5,4), dpi=150)\n",
    "num = ['1/2', '1/4', '1/8', '1/32','1/64', '1/128']\n",
    "all_mmd = {}\n",
    "marker = {\n",
    "    'random':'--',\n",
    "    'ball-tree':'-*'\n",
    "}\n",
    "color =  {\n",
    "    'random':'#1A699E',\n",
    "    'sketch':'#984ea3',\n",
    "    'scsampler':'#277C24',\n",
    "    'ball-tree':'#e41a1c'\n",
    "}\n",
    "for i in ['random', 'ball-tree']:\n",
    "    all_mmd[i] = pd.read_csv(i+'_mmd.csv', index_col=0)\n",
    "h1 = plt.violinplot(all_mmd['ball-tree'] ,positions=list(range(0, 12, 2)), showmeans=True)\n",
    "h2 = plt.violinplot(all_mmd['random'] ,positions=list(range(1, 12, 2)), showmeans=True)\n",
    "for pc in h1['bodies']:\n",
    "    pc.set_facecolor('#e41a1c')\n",
    "    pc.set_edgecolor('#e41a1c')\n",
    "for i in ['cbars', 'cmins', 'cmaxes', 'cmeans']:\n",
    "    h1[i].set_edgecolor('#e41a1c')\n",
    "for pc in h2['bodies']:\n",
    "    pc.set_facecolor('#FF7B23')\n",
    "    pc.set_edgecolor('#FF7B23')\n",
    "for i in ['cbars', 'cmins', 'cmaxes', 'cmeans']:\n",
    "    h2[i].set_edgecolor('#FF7B23')\n",
    "plt.legend(labels=['ball-tree', 'random'],loc='upper left', handles=[h1['bodies'][0],h2['bodies'][0]])\n",
    "\n",
    "plt.xticks([0.5, 2.5, 4.5, 6.5, 8.5, 10.5], num)\n",
    "plt.tight_layout()\n",
    "plt.savefig('../../../MIRACLE-reproducibility/subsample_fig/MMD_bts_random.pdf')\n",
    "plt.savefig('../../../MIRACLE-reproducibility/subsample_fig/MMD_bts_random.png')\n",
    "plt.savefig('../../../MIRACLE-reproducibility/subsample_fig/MMD_bts_random.svg')"
   ]
  },
  {
   "cell_type": "code",
   "execution_count": null,
   "metadata": {},
   "outputs": [],
   "source": [
    "fig = plt.figure(figsize=(5,4), dpi=150)\n",
    "num = ['1/2', '1/4', '1/8', '1/32','1/64', '1/128']\n",
    "all_mmd = {}\n",
    "marker = {\n",
    "    'random':'--',\n",
    "    'ball-tree':'-*'\n",
    "}\n",
    "color =  {\n",
    "    'random':'#4daf4a',\n",
    "    'sketch':'#fc8d62',\n",
    "    'scsampler':'#ffd92f',\n",
    "    'ball-tree':'#e41a1c'\n",
    "}\n",
    "for i in ['random', 'ball-tree']:\n",
    "    all_mmd[i] = pd.read_csv(i+'_mmd.csv', index_col=0)\n",
    "h1 = plt.violinplot(all_mmd['ball-tree'] ,positions=list(range(0, 12, 2)), showmeans=True)\n",
    "h2 = plt.violinplot(all_mmd['random'] ,positions=list(range(1, 12, 2)), showmeans=True)\n",
    "for pc in h1['bodies']:\n",
    "    pc.set_facecolor('orangered')\n",
    "    pc.set_edgecolor('orangered')\n",
    "for i in ['cbars', 'cmins', 'cmaxes', 'cmeans']:\n",
    "    h1[i].set_edgecolor('orangered')\n",
    "for pc in h2['bodies']:\n",
    "    pc.set_facecolor('dodgerblue')\n",
    "    pc.set_edgecolor('dodgerblue')\n",
    "for i in ['cbars', 'cmins', 'cmaxes', 'cmeans']:\n",
    "    h2[i].set_edgecolor('dodgerblue')\n",
    "plt.legend(labels=['ball-tree', 'random'],loc='upper left', handles=[h1['cbars'],h2['cbars']])\n",
    "\n",
    "plt.xticks([0.5, 2.5, 4.5, 6.5, 8.5, 10.5], num)\n",
    "plt.tight_layout()\n",
    "plt.savefig('../../../MIRACLE-reproducibility/subsample_fig/MMD_bts_random.pdf')\n",
    "plt.savefig('../../../MIRACLE-reproducibility/subsample_fig/MMD_bts_random.png')\n",
    "plt.savefig('../../../MIRACLE-reproducibility/subsample_fig/MMD_bts_random.svg')"
   ]
  },
  {
   "cell_type": "code",
   "execution_count": null,
   "metadata": {},
   "outputs": [],
   "source": [
    "fig = plt.figure(figsize=(5,4),dpi=150)\n",
    "all_mmd = {}\n",
    "marker = {\n",
    "    'random':'--',\n",
    "    'sketch':'-^',\n",
    "    'scsampler':'-o',\n",
    "    'ball-tree':'-*'\n",
    "}\n",
    "color =  {\n",
    "    'random':'#FF7B23',\n",
    "    'sketch':'#377eb8',\n",
    "    'scsampler':'#570F69',\n",
    "    'ball-tree':'#C21316'\n",
    "}\n",
    "\n",
    "for i in ['random', 'sketch', 'scsampler', 'ball-tree']:\n",
    "    all_mmd[i] = pd.read_csv(i+'_mmd.csv', index_col=0)\n",
    "for i in ['random', 'sketch', 'scsampler', 'ball-tree']:\n",
    "    plt.plot(list(range(6)), all_mmd[i].mean(), marker[i], color=color[i])\n",
    "\n",
    "plt.yscale('log')\n",
    "plt.xticks(list(range(6)), num)\n",
    "\n",
    "plt.xticks(list(range(6)), num)\n",
    "plt.legend(['random', 'sketch', 'scSampler', 'ball-tree'])\n",
    "plt.tight_layout()\n",
    "plt.savefig('../../../MIRACLE-reproducibility/subsample_fig/MMD_all.pdf')\n",
    "plt.savefig('../../../MIRACLE-reproducibility/subsample_fig/MMD_all.png')\n",
    "plt.savefig('../../../MIRACLE-reproducibility/subsample_fig/MMD_all.svg')"
   ]
  },
  {
   "cell_type": "code",
   "execution_count": null,
   "metadata": {},
   "outputs": [],
   "source": [
    "n = [5000, 2500, 1250, 625, 312, 156]\n",
    "fig = plt.figure(figsize=(5, 4),dpi=150)\n",
    "marker = {\n",
    "    'random':'--',\n",
    "    'sketch':'-^',\n",
    "    'scsampler':'-o',\n",
    "    'ball-tree':'-*'\n",
    "}\n",
    "\n",
    "color =  {\n",
    "    'random':'#FF7B23',\n",
    "    'sketch':'#377eb8',\n",
    "    'scsampler':'#570F69',\n",
    "    'ball-tree':'#C21316'\n",
    "}\n",
    "\n",
    "all_time = {}\n",
    "\n",
    "for task in ['random', 'sketch', 'scsampler', 'ball-tree']:\n",
    "    dir = './%s_result/'%task\n",
    "    time_list = {}\n",
    "    for i in n:\n",
    "        time = pd.read_csv(dir + 'sample_time_' + str(i)+'.csv', index_col=0, header=0).T\n",
    "        if time.shape==(1, 50):\n",
    "            time_list[i] = [time.values.mean()]\n",
    "        else:\n",
    "            time_list[i] = time[1].values.mean()\n",
    "    pd.DataFrame(time_list, index=[0]).to_csv('./%s_time.csv'%task)\n",
    "\n",
    "for i in ['random', 'sketch', 'scsampler', 'ball-tree']:\n",
    "    all_time[i] = pd.read_csv(i+'_time.csv', index_col=0)\n",
    "for i in ['random', 'sketch', 'scsampler', 'ball-tree']:\n",
    "    plt.plot(list(range(6)), all_time[i].values[0], marker[i], color=color[i])\n",
    "plt.legend(['random', 'sketch', 'scSampler', 'ball-tree'])\n",
    "plt.xticks(list(range(6)), num)\n",
    "plt.legend(['random', 'sketch', 'scSampler', 'ball-tree'])\n",
    "plt.tight_layout()\n",
    "plt.savefig('../../../MIRACLE-reproducibility/subsample_fig/time.pdf')\n",
    "plt.savefig('../../../MIRACLE-reproducibility/subsample_fig/time.png')\n",
    "plt.savefig('../../../MIRACLE-reproducibility/subsample_fig/time.svg')"
   ]
  },
  {
   "cell_type": "code",
   "execution_count": null,
   "metadata": {},
   "outputs": [],
   "source": []
  }
 ],
 "metadata": {
  "kernelspec": {
   "display_name": "base",
   "language": "python",
   "name": "python3"
  },
  "language_info": {
   "codemirror_mode": {
    "name": "ipython",
    "version": 3
   },
   "file_extension": ".py",
   "mimetype": "text/x-python",
   "name": "python",
   "nbconvert_exporter": "python",
   "pygments_lexer": "ipython3",
   "version": "3.8.5"
  },
  "orig_nbformat": 4
 },
 "nbformat": 4,
 "nbformat_minor": 2
}
