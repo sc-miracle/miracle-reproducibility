{
 "cells": [
  {
   "cell_type": "code",
   "execution_count": 3,
   "metadata": {
    "vscode": {
     "languageId": "r"
    }
   },
   "outputs": [
    {
     "name": "stderr",
     "output_type": "stream",
     "text": [
      "Attaching SeuratObject\n",
      "\n",
      "Registered S3 method overwritten by 'SeuratDisk':\n",
      "  method            from  \n",
      "  as.sparse.H5Group Seurat\n",
      "\n"
     ]
    }
   ],
   "source": [
    "source(\"../../../MIRACLE-reproducibility/preprocess/utils.R\")\n",
    "base_dir <- \"../../../MIRACLE-reproducibility/data/raw/dcm_hcm/\"\n",
    "count_path <- pj(base_dir)\n",
    "counts <- Read10X(count_path)\n",
    "obj <- gen_rna(counts)\n",
    "obj\n",
    "meta <- read.csv(paste0(base_dir, 'DCM_HCM_MetaData_V1.txt'), sep='\\t')\n",
    "rownames(meta) <- meta[['NAME']]\n",
    "meta <- meta[2:dim(meta)[1], ]"
   ]
  },
  {
   "cell_type": "code",
   "execution_count": 26,
   "metadata": {
    "vscode": {
     "languageId": "r"
    }
   },
   "outputs": [],
   "source": [
    "obj[['donor_id']] <- meta['donor_id']\n",
    "obj[['cell_type__ontology_label']] <- meta['cell_type__ontology_label']\n",
    "obj[['disease__ontology_label']] <- meta['disease__ontology_label']\n",
    "obj[['cell_type_leiden06']] <- meta['cell_type_leiden06']\n",
    "obj[['cell_type__ontology_label']] <- meta['cell_type__ontology_label']\n",
    "obj[['cell_type_leiden06']] <- substr(obj@meta.data[['cell_type_leiden06']], 4, 40)\n",
    "label <- obj@meta.data[['cell_type_leiden06']]\n",
    "for(i in c(unique(unique(obj@meta.data[['cell_type_leiden06']])))){\n",
    "    if(i==\"Fibroblast_II\"){\n",
    "        label[label==i] = 'Fibroblast'\n",
    "    }else if(i==\"Fibroblast_I\"){\n",
    "        label[label==i] = 'Fibroblast'\n",
    "    }else if(i==\"Cardiomyocyte_I\"){\n",
    "        label[label==i] = 'Cardiomyocyte'\n",
    "    }else if(i==\"Cardiomyocyte_II\"){\n",
    "        label[label==i] = 'Cardiomyocyte'\n",
    "    }else if(i==\"Cardiomyocyte_III\"){\n",
    "        label[label==i] = 'Cardiomyocyte'\n",
    "    }else if(i==\"Pericyte_I\"){\n",
    "        label[label==i] = 'Pericyte'\n",
    "    }else if(i==\"Pericyte_II\"){\n",
    "        label[label==i] = 'Pericyte'\n",
    "    }else if(i==\"Endothelial_I\"){\n",
    "        label[label==i] = 'Endothelial'\n",
    "    }else if(i==\"Endothelial_II\"){\n",
    "        label[label==i] = 'Endothelial'\n",
    "    }else if(i==\"Endothelial_III\"){\n",
    "        label[label==i] = 'Endothelial'\n",
    "    }\n",
    "    else if(i==\"Proliferating_macrophage\"){\n",
    "        label[label==i] = 'Macrophage'\n",
    "    }\n",
    "}\n",
    "obj[['l1']] <- obj@meta.data[['cell_type_leiden06']]\n",
    "obj[['l2']] <- label\n",
    "rna_list <- SplitObject(obj, split.by = \"donor_id\")\n"
   ]
  },
  {
   "cell_type": "code",
   "execution_count": 91,
   "metadata": {
    "vscode": {
     "languageId": "r"
    }
   },
   "outputs": [],
   "source": [
    "output_dir_list <- list()\n",
    "p <- list()\n",
    "for(i in c(1:42)){\n",
    "    mkdir(paste0(base_dir, unique(rna_list[[i]][['donor_id']])[1, 1], '/label_seurat/'))\n",
    "    rna_list[[i]] <- gen_rna(rna_list[[i]][['rna']]@counts)\n",
    "    p[[i]] <- VlnPlot(rna_list[[i]], c(\"nFeature_rna\", \"nCount_rna\"),\n",
    "        pt.size = 0.001, ncol = 3, log = F) + NoLegend()\n",
    "}\n",
    "mkdir(paste0(base_dir, '/vlnplot_before'))\n",
    "for ( i in c(1:42)){\n",
    "    ggsave(paste0(base_dir, '/vlnplot_before/',unique(obj[['donor_id']])[i,1], '.png'), p[[i]])\n",
    "}"
   ]
  },
  {
   "cell_type": "code",
   "execution_count": 111,
   "metadata": {
    "vscode": {
     "languageId": "r"
    }
   },
   "outputs": [],
   "source": [
    "mkdir(paste0(base_dir, '/vlnplot_processed'))\n",
    "for(i in c(1:42)){\n",
    "    rna <- rna_list[[i]]\n",
    "    rna <- subset(rna, subset =\n",
    "        nFeature_rna > 400 & nFeature_rna < 4000 & \n",
    "        nCount_rna > 500 & nCount_rna < 13000\n",
    "    )\n",
    "    # p <- VlnPlot(rna, c(\"nFeature_rna\", \"nCount_rna\"),\n",
    "    #         pt.size = 0.001, ncol = 3) + NoLegend()\n",
    "    # rna\n",
    "    # ggsave(paste0(base_dir, '/vlnplot_processed/',unique(obj[['donor_id']])[i,1], '.png'), p)\n",
    "    # preprocess(output_dir_list[[i]], rna = rna)\n",
    "    write.csv(obj@meta.data[colnames(rna), ]['l1'], paste0(base_dir, unique(obj@meta.data[colnames(rna), ][['donor_id']])[1], '/label_seurat/l1.csv'))\n",
    "    write.csv(obj@meta.data[colnames(rna), ]['l2'], paste0(base_dir, unique(obj@meta.data[colnames(rna), ][['donor_id']])[1], '/label_seurat/l2.csv'))\n",
    "    write.csv(obj@meta.data[colnames(rna), ]['disease__ontology_label'], paste0(base_dir, unique(obj@meta.data[colnames(rna), ][['donor_id']])[1], '/label_seurat/disease.csv'))\n",
    "}"
   ]
  }
 ],
 "metadata": {
  "kernelspec": {
   "display_name": "R",
   "language": "R",
   "name": "ir"
  },
  "language_info": {
   "codemirror_mode": "r",
   "file_extension": ".r",
   "mimetype": "text/x-r-source",
   "name": "R",
   "pygments_lexer": "r",
   "version": "4.2.2"
  },
  "orig_nbformat": 4
 },
 "nbformat": 4,
 "nbformat_minor": 2
}
