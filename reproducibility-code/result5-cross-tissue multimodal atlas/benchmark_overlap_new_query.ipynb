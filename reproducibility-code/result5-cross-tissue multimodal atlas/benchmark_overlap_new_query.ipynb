{
 "cells": [
  {
   "cell_type": "code",
   "execution_count": 2,
   "metadata": {},
   "outputs": [],
   "source": [
    "import os\n",
    "from os.path import join as pj\n",
    "import argparse\n",
    "import sys\n",
    "sys.path.append(\"modules\")\n",
    "import utils\n",
    "import numpy as np\n",
    "import torch as th\n",
    "import scib\n",
    "import scib.metrics as me\n",
    "import anndata as ad\n",
    "import scipy\n",
    "import pandas as pd\n",
    "import re\n",
    "import itertools\n",
    "from sklearn.neighbors import KNeighborsClassifier\n",
    "from sklearn.metrics import confusion_matrix, f1_score, roc_auc_score\n",
    "from scipy.stats import pearsonr\n",
    "import copy\n",
    "import seaborn as sns\n",
    "import matplotlib.pyplot as plt\n",
    "from sklearn.neighbors import NearestNeighbors\n",
    "from operator import itemgetter\n",
    "from collections import Counter\n",
    "from tqdm import tqdm"
   ]
  },
  {
   "cell_type": "code",
   "execution_count": 3,
   "metadata": {},
   "outputs": [],
   "source": [
    "parser = argparse.ArgumentParser()\n",
    "parser.add_argument('--task', type=str, default='new_query_cl')\n",
    "parser.add_argument('--real_task', type=str, default='atlas_new')\n",
    "parser.add_argument('--reference', type=str, default='atlas_new_no_neap')\n",
    "parser.add_argument('--experiment', type=str, default='c_3')\n",
    "parser.add_argument('--real_experiment', type=str, default='offline')\n",
    "parser.add_argument('--model', type=str, default='default')\n",
    "parser.add_argument('--init_model', type=str, default='')\n",
    "parser.add_argument('--init_model_real', type=str, default='sp_latest')\n",
    "parser.add_argument('--method', type=str, default='midas_embed')\n",
    "o, _ = parser.parse_known_args()  # for python interactive\n",
    "# o = parser.parse_args()"
   ]
  },
  {
   "cell_type": "code",
   "execution_count": 3,
   "metadata": {},
   "outputs": [
    {
     "name": "stdout",
     "output_type": "stream",
     "text": [
      "Loading predicted variables ...\n",
      "Loading subset 0: z, joint\n"
     ]
    },
    {
     "name": "stderr",
     "output_type": "stream",
     "text": [
      "100%|██████████| 29/29 [00:00<00:00, 295.58it/s]\n"
     ]
    },
    {
     "name": "stdout",
     "output_type": "stream",
     "text": [
      "Loading subset 1: z, joint\n"
     ]
    },
    {
     "name": "stderr",
     "output_type": "stream",
     "text": [
      "100%|██████████| 24/24 [00:00<00:00, 335.53it/s]\n"
     ]
    },
    {
     "name": "stdout",
     "output_type": "stream",
     "text": [
      "Loading subset 2: z, joint\n"
     ]
    },
    {
     "name": "stderr",
     "output_type": "stream",
     "text": [
      "100%|██████████| 40/40 [00:00<00:00, 317.00it/s]\n"
     ]
    },
    {
     "name": "stdout",
     "output_type": "stream",
     "text": [
      "Loading subset 3: z, joint\n"
     ]
    },
    {
     "name": "stderr",
     "output_type": "stream",
     "text": [
      "100%|██████████| 38/38 [00:00<00:00, 273.21it/s]\n"
     ]
    },
    {
     "name": "stdout",
     "output_type": "stream",
     "text": [
      "Loading subset 4: z, joint\n"
     ]
    },
    {
     "name": "stderr",
     "output_type": "stream",
     "text": [
      "100%|██████████| 29/29 [00:00<00:00, 329.39it/s]\n"
     ]
    },
    {
     "name": "stdout",
     "output_type": "stream",
     "text": [
      "Loading subset 5: z, joint\n"
     ]
    },
    {
     "name": "stderr",
     "output_type": "stream",
     "text": [
      "100%|██████████| 26/26 [00:00<00:00, 303.17it/s]\n"
     ]
    },
    {
     "name": "stdout",
     "output_type": "stream",
     "text": [
      "Loading subset 6: z, joint\n"
     ]
    },
    {
     "name": "stderr",
     "output_type": "stream",
     "text": [
      "100%|██████████| 27/27 [00:00<00:00, 413.69it/s]\n"
     ]
    },
    {
     "name": "stdout",
     "output_type": "stream",
     "text": [
      "Loading subset 7: z, joint\n"
     ]
    },
    {
     "name": "stderr",
     "output_type": "stream",
     "text": [
      "100%|██████████| 27/27 [00:00<00:00, 310.45it/s]\n"
     ]
    },
    {
     "name": "stdout",
     "output_type": "stream",
     "text": [
      "Loading subset 8: z, joint\n"
     ]
    },
    {
     "name": "stderr",
     "output_type": "stream",
     "text": [
      "100%|██████████| 28/28 [00:00<00:00, 310.15it/s]\n"
     ]
    },
    {
     "name": "stdout",
     "output_type": "stream",
     "text": [
      "Loading subset 9: z, joint\n"
     ]
    },
    {
     "name": "stderr",
     "output_type": "stream",
     "text": [
      "100%|██████████| 24/24 [00:00<00:00, 348.11it/s]\n"
     ]
    },
    {
     "name": "stdout",
     "output_type": "stream",
     "text": [
      "Loading subset 10: z, joint\n"
     ]
    },
    {
     "name": "stderr",
     "output_type": "stream",
     "text": [
      "100%|██████████| 29/29 [00:00<00:00, 93.78it/s]\n"
     ]
    },
    {
     "name": "stdout",
     "output_type": "stream",
     "text": [
      "Loading subset 11: z, joint\n"
     ]
    },
    {
     "name": "stderr",
     "output_type": "stream",
     "text": [
      "100%|██████████| 39/39 [00:00<00:00, 298.65it/s]\n"
     ]
    },
    {
     "name": "stdout",
     "output_type": "stream",
     "text": [
      "Loading subset 12: z, joint\n"
     ]
    },
    {
     "name": "stderr",
     "output_type": "stream",
     "text": [
      "100%|██████████| 38/38 [00:00<00:00, 285.64it/s]\n"
     ]
    },
    {
     "name": "stdout",
     "output_type": "stream",
     "text": [
      "Loading subset 13: z, joint\n"
     ]
    },
    {
     "name": "stderr",
     "output_type": "stream",
     "text": [
      "100%|██████████| 44/44 [00:00<00:00, 321.21it/s]\n"
     ]
    },
    {
     "name": "stdout",
     "output_type": "stream",
     "text": [
      "Loading subset 14: z, joint\n"
     ]
    },
    {
     "name": "stderr",
     "output_type": "stream",
     "text": [
      "100%|██████████| 11/11 [00:00<00:00, 330.26it/s]\n"
     ]
    },
    {
     "name": "stdout",
     "output_type": "stream",
     "text": [
      "Loading subset 15: z, joint\n"
     ]
    },
    {
     "name": "stderr",
     "output_type": "stream",
     "text": [
      "100%|██████████| 25/25 [00:00<00:00, 296.03it/s]\n"
     ]
    },
    {
     "name": "stdout",
     "output_type": "stream",
     "text": [
      "Loading subset 16: z, joint\n"
     ]
    },
    {
     "name": "stderr",
     "output_type": "stream",
     "text": [
      "100%|██████████| 24/24 [00:00<00:00, 304.19it/s]\n"
     ]
    },
    {
     "name": "stdout",
     "output_type": "stream",
     "text": [
      "Loading subset 17: z, joint\n"
     ]
    },
    {
     "name": "stderr",
     "output_type": "stream",
     "text": [
      "100%|██████████| 19/19 [00:00<00:00, 349.57it/s]\n"
     ]
    },
    {
     "name": "stdout",
     "output_type": "stream",
     "text": [
      "Loading subset 18: z, joint\n"
     ]
    },
    {
     "name": "stderr",
     "output_type": "stream",
     "text": [
      "100%|██████████| 21/21 [00:00<00:00, 289.29it/s]\n"
     ]
    },
    {
     "name": "stdout",
     "output_type": "stream",
     "text": [
      "Loading subset 19: z, joint\n"
     ]
    },
    {
     "name": "stderr",
     "output_type": "stream",
     "text": [
      "100%|██████████| 28/28 [00:00<00:00, 326.26it/s]\n"
     ]
    },
    {
     "name": "stdout",
     "output_type": "stream",
     "text": [
      "Loading subset 20: z, joint\n"
     ]
    },
    {
     "name": "stderr",
     "output_type": "stream",
     "text": [
      "100%|██████████| 24/24 [00:00<00:00, 344.31it/s]\n"
     ]
    },
    {
     "name": "stdout",
     "output_type": "stream",
     "text": [
      "Loading subset 21: z, joint\n"
     ]
    },
    {
     "name": "stderr",
     "output_type": "stream",
     "text": [
      "100%|██████████| 35/35 [00:00<00:00, 378.23it/s]\n"
     ]
    },
    {
     "name": "stdout",
     "output_type": "stream",
     "text": [
      "Loading subset 22: z, joint\n"
     ]
    },
    {
     "name": "stderr",
     "output_type": "stream",
     "text": [
      "100%|██████████| 35/35 [00:00<00:00, 352.36it/s]\n"
     ]
    },
    {
     "name": "stdout",
     "output_type": "stream",
     "text": [
      "Loading subset 23: z, joint\n"
     ]
    },
    {
     "name": "stderr",
     "output_type": "stream",
     "text": [
      "100%|██████████| 47/47 [00:00<00:00, 97.01it/s] \n"
     ]
    },
    {
     "name": "stdout",
     "output_type": "stream",
     "text": [
      "Loading subset 24: z, joint\n"
     ]
    },
    {
     "name": "stderr",
     "output_type": "stream",
     "text": [
      "100%|██████████| 58/58 [00:00<00:00, 351.08it/s]\n"
     ]
    },
    {
     "name": "stdout",
     "output_type": "stream",
     "text": [
      "Loading subset 25: z, joint\n"
     ]
    },
    {
     "name": "stderr",
     "output_type": "stream",
     "text": [
      "100%|██████████| 39/39 [00:00<00:00, 318.82it/s]\n"
     ]
    },
    {
     "name": "stdout",
     "output_type": "stream",
     "text": [
      "Loading subset 26: z, joint\n"
     ]
    },
    {
     "name": "stderr",
     "output_type": "stream",
     "text": [
      "100%|██████████| 52/52 [00:00<00:00, 310.86it/s]\n"
     ]
    },
    {
     "name": "stdout",
     "output_type": "stream",
     "text": [
      "Loading subset 27: z, joint\n"
     ]
    },
    {
     "name": "stderr",
     "output_type": "stream",
     "text": [
      "100%|██████████| 28/28 [00:00<00:00, 361.94it/s]\n"
     ]
    },
    {
     "name": "stdout",
     "output_type": "stream",
     "text": [
      "Loading subset 28: z, joint\n"
     ]
    },
    {
     "name": "stderr",
     "output_type": "stream",
     "text": [
      "100%|██████████| 22/22 [00:00<00:00, 350.12it/s]\n"
     ]
    },
    {
     "name": "stdout",
     "output_type": "stream",
     "text": [
      "Loading subset 29: z, joint\n"
     ]
    },
    {
     "name": "stderr",
     "output_type": "stream",
     "text": [
      "100%|██████████| 20/20 [00:00<00:00, 334.44it/s]\n"
     ]
    },
    {
     "name": "stdout",
     "output_type": "stream",
     "text": [
      "Loading subset 30: z, joint\n"
     ]
    },
    {
     "name": "stderr",
     "output_type": "stream",
     "text": [
      "100%|██████████| 17/17 [00:00<00:00, 374.52it/s]\n"
     ]
    },
    {
     "name": "stdout",
     "output_type": "stream",
     "text": [
      "Loading subset 31: z, joint\n"
     ]
    },
    {
     "name": "stderr",
     "output_type": "stream",
     "text": [
      "100%|██████████| 21/21 [00:00<00:00, 274.67it/s]\n"
     ]
    },
    {
     "name": "stdout",
     "output_type": "stream",
     "text": [
      "Loading subset 32: z, joint\n"
     ]
    },
    {
     "name": "stderr",
     "output_type": "stream",
     "text": [
      "100%|██████████| 20/20 [00:00<00:00, 382.71it/s]\n"
     ]
    },
    {
     "name": "stdout",
     "output_type": "stream",
     "text": [
      "Loading subset 33: z, joint\n"
     ]
    },
    {
     "name": "stderr",
     "output_type": "stream",
     "text": [
      "100%|██████████| 15/15 [00:00<00:00, 278.48it/s]\n"
     ]
    },
    {
     "name": "stdout",
     "output_type": "stream",
     "text": [
      "Converting to numpy ...\n",
      "Converting subset 0: s, joint\n",
      "Converting subset 0: z, joint\n",
      "Converting subset 1: s, joint\n",
      "Converting subset 1: z, joint\n",
      "Converting subset 2: s, joint\n",
      "Converting subset 2: z, joint\n",
      "Converting subset 3: s, joint\n",
      "Converting subset 3: z, joint\n",
      "Converting subset 4: s, joint\n",
      "Converting subset 4: z, joint\n",
      "Converting subset 5: s, joint\n",
      "Converting subset 5: z, joint\n",
      "Converting subset 6: s, joint\n",
      "Converting subset 6: z, joint\n",
      "Converting subset 7: s, joint\n",
      "Converting subset 7: z, joint\n",
      "Converting subset 8: s, joint\n",
      "Converting subset 8: z, joint\n",
      "Converting subset 9: s, joint\n",
      "Converting subset 9: z, joint\n",
      "Converting subset 10: s, joint\n",
      "Converting subset 10: z, joint\n",
      "Converting subset 11: s, joint\n",
      "Converting subset 11: z, joint\n",
      "Converting subset 12: s, joint\n",
      "Converting subset 12: z, joint\n",
      "Converting subset 13: s, joint\n",
      "Converting subset 13: z, joint\n",
      "Converting subset 14: s, joint\n",
      "Converting subset 14: z, joint\n",
      "Converting subset 15: s, joint\n",
      "Converting subset 15: z, joint\n",
      "Converting subset 16: s, joint\n",
      "Converting subset 16: z, joint\n",
      "Converting subset 17: s, joint\n",
      "Converting subset 17: z, joint\n",
      "Converting subset 18: s, joint\n",
      "Converting subset 18: z, joint\n",
      "Converting subset 19: s, joint\n",
      "Converting subset 19: z, joint\n",
      "Converting subset 20: s, joint\n",
      "Converting subset 20: z, joint\n",
      "Converting subset 21: s, joint\n",
      "Converting subset 21: z, joint\n",
      "Converting subset 22: s, joint\n",
      "Converting subset 22: z, joint\n",
      "Converting subset 23: s, joint\n",
      "Converting subset 23: z, joint\n",
      "Converting subset 24: s, joint\n",
      "Converting subset 24: z, joint\n",
      "Converting subset 25: s, joint\n",
      "Converting subset 25: z, joint\n",
      "Converting subset 26: s, joint\n",
      "Converting subset 26: z, joint\n",
      "Converting subset 27: s, joint\n",
      "Converting subset 27: z, joint\n",
      "Converting subset 28: s, joint\n",
      "Converting subset 28: z, joint\n",
      "Converting subset 29: s, joint\n",
      "Converting subset 29: z, joint\n",
      "Converting subset 30: s, joint\n",
      "Converting subset 30: z, joint\n",
      "Converting subset 31: s, joint\n",
      "Converting subset 31: z, joint\n",
      "Converting subset 32: s, joint\n",
      "Converting subset 32: z, joint\n",
      "Converting subset 33: s, joint\n",
      "Converting subset 33: z, joint\n",
      "Loading predicted variables ...\n",
      "Loading subset 0: z, joint\n"
     ]
    },
    {
     "name": "stderr",
     "output_type": "stream",
     "text": [
      "100%|██████████| 29/29 [00:00<00:00, 161.48it/s]\n"
     ]
    },
    {
     "name": "stdout",
     "output_type": "stream",
     "text": [
      "Loading subset 1: z, joint\n"
     ]
    },
    {
     "name": "stderr",
     "output_type": "stream",
     "text": [
      "100%|██████████| 24/24 [00:00<00:00, 163.44it/s]\n"
     ]
    },
    {
     "name": "stdout",
     "output_type": "stream",
     "text": [
      "Loading subset 2: z, joint\n"
     ]
    },
    {
     "name": "stderr",
     "output_type": "stream",
     "text": [
      "100%|██████████| 40/40 [00:00<00:00, 196.49it/s]\n"
     ]
    },
    {
     "name": "stdout",
     "output_type": "stream",
     "text": [
      "Loading subset 3: z, joint\n"
     ]
    },
    {
     "name": "stderr",
     "output_type": "stream",
     "text": [
      "100%|██████████| 38/38 [00:00<00:00, 55.77it/s]\n"
     ]
    },
    {
     "name": "stdout",
     "output_type": "stream",
     "text": [
      "Loading subset 4: z, joint\n"
     ]
    },
    {
     "name": "stderr",
     "output_type": "stream",
     "text": [
      "100%|██████████| 29/29 [00:00<00:00, 30.09it/s]\n"
     ]
    },
    {
     "name": "stdout",
     "output_type": "stream",
     "text": [
      "Loading subset 5: z, joint\n"
     ]
    },
    {
     "name": "stderr",
     "output_type": "stream",
     "text": [
      "100%|██████████| 26/26 [00:00<00:00, 71.53it/s]\n"
     ]
    },
    {
     "name": "stdout",
     "output_type": "stream",
     "text": [
      "Loading subset 6: z, joint\n"
     ]
    },
    {
     "name": "stderr",
     "output_type": "stream",
     "text": [
      "100%|██████████| 27/27 [00:00<00:00, 121.24it/s]\n"
     ]
    },
    {
     "name": "stdout",
     "output_type": "stream",
     "text": [
      "Loading subset 7: z, joint\n"
     ]
    },
    {
     "name": "stderr",
     "output_type": "stream",
     "text": [
      "100%|██████████| 27/27 [00:00<00:00, 69.53it/s]\n"
     ]
    },
    {
     "name": "stdout",
     "output_type": "stream",
     "text": [
      "Loading subset 8: z, joint\n"
     ]
    },
    {
     "name": "stderr",
     "output_type": "stream",
     "text": [
      "100%|██████████| 28/28 [00:00<00:00, 100.72it/s]\n"
     ]
    },
    {
     "name": "stdout",
     "output_type": "stream",
     "text": [
      "Loading subset 9: z, joint\n"
     ]
    },
    {
     "name": "stderr",
     "output_type": "stream",
     "text": [
      "100%|██████████| 24/24 [00:00<00:00, 222.23it/s]\n"
     ]
    },
    {
     "name": "stdout",
     "output_type": "stream",
     "text": [
      "Loading subset 10: z, joint\n"
     ]
    },
    {
     "name": "stderr",
     "output_type": "stream",
     "text": [
      "100%|██████████| 29/29 [00:00<00:00, 134.75it/s]\n"
     ]
    },
    {
     "name": "stdout",
     "output_type": "stream",
     "text": [
      "Loading subset 11: z, joint\n"
     ]
    },
    {
     "name": "stderr",
     "output_type": "stream",
     "text": [
      "100%|██████████| 39/39 [00:00<00:00, 158.22it/s]\n"
     ]
    },
    {
     "name": "stdout",
     "output_type": "stream",
     "text": [
      "Loading subset 12: z, joint\n"
     ]
    },
    {
     "name": "stderr",
     "output_type": "stream",
     "text": [
      "100%|██████████| 38/38 [00:00<00:00, 184.51it/s]\n"
     ]
    },
    {
     "name": "stdout",
     "output_type": "stream",
     "text": [
      "Loading subset 13: z, joint\n"
     ]
    },
    {
     "name": "stderr",
     "output_type": "stream",
     "text": [
      "100%|██████████| 44/44 [00:00<00:00, 147.20it/s]\n"
     ]
    },
    {
     "name": "stdout",
     "output_type": "stream",
     "text": [
      "Loading subset 14: z, joint\n"
     ]
    },
    {
     "name": "stderr",
     "output_type": "stream",
     "text": [
      "100%|██████████| 11/11 [00:00<00:00, 288.36it/s]\n"
     ]
    },
    {
     "name": "stdout",
     "output_type": "stream",
     "text": [
      "Loading subset 15: z, joint\n"
     ]
    },
    {
     "name": "stderr",
     "output_type": "stream",
     "text": [
      "100%|██████████| 17/17 [00:00<00:00, 40.22it/s]\n"
     ]
    },
    {
     "name": "stdout",
     "output_type": "stream",
     "text": [
      "Loading subset 16: z, joint\n"
     ]
    },
    {
     "name": "stderr",
     "output_type": "stream",
     "text": [
      "100%|██████████| 21/21 [00:00<00:00, 214.03it/s]\n"
     ]
    },
    {
     "name": "stdout",
     "output_type": "stream",
     "text": [
      "Loading subset 17: z, joint\n"
     ]
    },
    {
     "name": "stderr",
     "output_type": "stream",
     "text": [
      "100%|██████████| 20/20 [00:00<00:00, 101.00it/s]\n"
     ]
    },
    {
     "name": "stdout",
     "output_type": "stream",
     "text": [
      "Loading subset 18: z, joint\n"
     ]
    },
    {
     "name": "stderr",
     "output_type": "stream",
     "text": [
      "100%|██████████| 15/15 [00:00<00:00, 167.25it/s]\n"
     ]
    },
    {
     "name": "stdout",
     "output_type": "stream",
     "text": [
      "Loading subset 19: z, joint\n"
     ]
    },
    {
     "name": "stderr",
     "output_type": "stream",
     "text": [
      "100%|██████████| 25/25 [00:00<00:00, 111.59it/s]\n"
     ]
    },
    {
     "name": "stdout",
     "output_type": "stream",
     "text": [
      "Loading subset 20: z, joint\n"
     ]
    },
    {
     "name": "stderr",
     "output_type": "stream",
     "text": [
      "100%|██████████| 24/24 [00:00<00:00, 87.96it/s]\n"
     ]
    },
    {
     "name": "stdout",
     "output_type": "stream",
     "text": [
      "Loading subset 21: z, joint\n"
     ]
    },
    {
     "name": "stderr",
     "output_type": "stream",
     "text": [
      "100%|██████████| 19/19 [00:00<00:00, 87.29it/s] \n"
     ]
    },
    {
     "name": "stdout",
     "output_type": "stream",
     "text": [
      "Loading subset 22: z, joint\n"
     ]
    },
    {
     "name": "stderr",
     "output_type": "stream",
     "text": [
      "100%|██████████| 21/21 [00:00<00:00, 97.23it/s]\n"
     ]
    },
    {
     "name": "stdout",
     "output_type": "stream",
     "text": [
      "Loading subset 23: z, joint\n"
     ]
    },
    {
     "name": "stderr",
     "output_type": "stream",
     "text": [
      "100%|██████████| 28/28 [00:00<00:00, 94.03it/s]\n"
     ]
    },
    {
     "name": "stdout",
     "output_type": "stream",
     "text": [
      "Loading subset 24: z, joint\n"
     ]
    },
    {
     "name": "stderr",
     "output_type": "stream",
     "text": [
      "100%|██████████| 24/24 [00:00<00:00, 97.30it/s] \n"
     ]
    },
    {
     "name": "stdout",
     "output_type": "stream",
     "text": [
      "Loading subset 25: z, joint\n"
     ]
    },
    {
     "name": "stderr",
     "output_type": "stream",
     "text": [
      "100%|██████████| 35/35 [00:00<00:00, 77.86it/s]\n"
     ]
    },
    {
     "name": "stdout",
     "output_type": "stream",
     "text": [
      "Loading subset 26: z, joint\n"
     ]
    },
    {
     "name": "stderr",
     "output_type": "stream",
     "text": [
      "100%|██████████| 35/35 [00:00<00:00, 83.52it/s]\n"
     ]
    },
    {
     "name": "stdout",
     "output_type": "stream",
     "text": [
      "Loading subset 27: z, joint\n"
     ]
    },
    {
     "name": "stderr",
     "output_type": "stream",
     "text": [
      "100%|██████████| 22/22 [00:00<00:00, 150.45it/s]\n"
     ]
    },
    {
     "name": "stdout",
     "output_type": "stream",
     "text": [
      "Loading subset 28: z, joint\n"
     ]
    },
    {
     "name": "stderr",
     "output_type": "stream",
     "text": [
      "100%|██████████| 20/20 [00:00<00:00, 184.43it/s]\n"
     ]
    },
    {
     "name": "stdout",
     "output_type": "stream",
     "text": [
      "Loading subset 29: z, joint\n"
     ]
    },
    {
     "name": "stderr",
     "output_type": "stream",
     "text": [
      "100%|██████████| 47/47 [00:00<00:00, 79.32it/s]\n"
     ]
    },
    {
     "name": "stdout",
     "output_type": "stream",
     "text": [
      "Loading subset 30: z, joint\n"
     ]
    },
    {
     "name": "stderr",
     "output_type": "stream",
     "text": [
      "100%|██████████| 58/58 [00:01<00:00, 37.16it/s]\n"
     ]
    },
    {
     "name": "stdout",
     "output_type": "stream",
     "text": [
      "Loading subset 31: z, joint\n"
     ]
    },
    {
     "name": "stderr",
     "output_type": "stream",
     "text": [
      "100%|██████████| 39/39 [00:00<00:00, 81.49it/s]\n"
     ]
    },
    {
     "name": "stdout",
     "output_type": "stream",
     "text": [
      "Loading subset 32: z, joint\n"
     ]
    },
    {
     "name": "stderr",
     "output_type": "stream",
     "text": [
      "100%|██████████| 52/52 [00:00<00:00, 81.11it/s]\n"
     ]
    },
    {
     "name": "stdout",
     "output_type": "stream",
     "text": [
      "Loading subset 33: z, joint\n"
     ]
    },
    {
     "name": "stderr",
     "output_type": "stream",
     "text": [
      "100%|██████████| 28/28 [00:00<00:00, 115.59it/s]\n"
     ]
    },
    {
     "name": "stdout",
     "output_type": "stream",
     "text": [
      "Converting to numpy ...\n",
      "Converting subset 0: s, joint\n",
      "Converting subset 0: z, joint\n",
      "Converting subset 1: s, joint\n",
      "Converting subset 1: z, joint\n",
      "Converting subset 2: s, joint\n",
      "Converting subset 2: z, joint\n",
      "Converting subset 3: s, joint\n",
      "Converting subset 3: z, joint\n",
      "Converting subset 4: s, joint\n",
      "Converting subset 4: z, joint\n",
      "Converting subset 5: s, joint\n",
      "Converting subset 5: z, joint\n",
      "Converting subset 6: s, joint\n",
      "Converting subset 6: z, joint\n",
      "Converting subset 7: s, joint\n",
      "Converting subset 7: z, joint\n",
      "Converting subset 8: s, joint\n",
      "Converting subset 8: z, joint\n",
      "Converting subset 9: s, joint\n",
      "Converting subset 9: z, joint\n",
      "Converting subset 10: s, joint\n",
      "Converting subset 10: z, joint\n",
      "Converting subset 11: s, joint\n",
      "Converting subset 11: z, joint\n",
      "Converting subset 12: s, joint\n",
      "Converting subset 12: z, joint\n",
      "Converting subset 13: s, joint\n",
      "Converting subset 13: z, joint\n",
      "Converting subset 14: s, joint\n",
      "Converting subset 14: z, joint\n",
      "Converting subset 15: s, joint\n",
      "Converting subset 15: z, joint\n",
      "Converting subset 16: s, joint\n",
      "Converting subset 16: z, joint\n",
      "Converting subset 17: s, joint\n",
      "Converting subset 17: z, joint\n",
      "Converting subset 18: s, joint\n",
      "Converting subset 18: z, joint\n",
      "Converting subset 19: s, joint\n",
      "Converting subset 19: z, joint\n",
      "Converting subset 20: s, joint\n",
      "Converting subset 20: z, joint\n",
      "Converting subset 21: s, joint\n",
      "Converting subset 21: z, joint\n",
      "Converting subset 22: s, joint\n",
      "Converting subset 22: z, joint\n",
      "Converting subset 23: s, joint\n",
      "Converting subset 23: z, joint\n",
      "Converting subset 24: s, joint\n",
      "Converting subset 24: z, joint\n",
      "Converting subset 25: s, joint\n",
      "Converting subset 25: z, joint\n",
      "Converting subset 26: s, joint\n",
      "Converting subset 26: z, joint\n",
      "Converting subset 27: s, joint\n",
      "Converting subset 27: z, joint\n",
      "Converting subset 28: s, joint\n",
      "Converting subset 28: z, joint\n",
      "Converting subset 29: s, joint\n",
      "Converting subset 29: z, joint\n",
      "Converting subset 30: s, joint\n",
      "Converting subset 30: z, joint\n",
      "Converting subset 31: s, joint\n",
      "Converting subset 31: z, joint\n",
      "Converting subset 32: s, joint\n",
      "Converting subset 32: z, joint\n",
      "Converting subset 33: s, joint\n",
      "Converting subset 33: z, joint\n"
     ]
    },
    {
     "data": {
      "text/plain": [
       "array([[     0,   2787,   7604, ...,   3363,  11683, 236125],\n",
       "       [     1,  35759,    141, ..., 196125, 117358,   9227],\n",
       "       [     2,    647,   6033, ..., 200623,  35587, 114121],\n",
       "       ...,\n",
       "       [252786, 252388, 252759, ...,   6641, 123427, 250521],\n",
       "       [252787, 252586, 251768, ..., 150235, 203807,  48917],\n",
       "       [252788, 252615, 252708, ...,  12890,  58560, 234586]])"
      ]
     },
     "execution_count": 3,
     "metadata": {},
     "output_type": "execute_result"
    }
   ],
   "source": [
    "# Load latent variables of reference data\n",
    "cfg_task = re.sub(\"_atlas|_generalize|_transfer|_ref_.*\", \"\", o.task)\n",
    "data_config = utils.gen_data_config(cfg_task)\n",
    "data_config_ref = utils.gen_data_config(o.reference)\n",
    "data_config_ref[\"raw_data_dirs\"] += data_config[\"raw_data_dirs\"]\n",
    "data_config_ref[\"raw_data_frags\"] += data_config[\"raw_data_frags\"]\n",
    "data_config_ref[\"combs\"] = data_config[\"combs\"]\n",
    "data_config_ref[\"comb_ratios\"] = data_config[\"comb_ratios\"]\n",
    "data_config_ref[\"s_joint\"] = data_config[\"s_joint\"]\n",
    "data_config = utils.load_toml(\"configs/data.toml\")[cfg_task]\n",
    "for k, v in data_config.items():\n",
    "    vars(o)[k] = v\n",
    "model_config = utils.load_toml(\"configs/model.toml\")[\"default\"]\n",
    "if o.model != \"default\":\n",
    "    model_config.update(utils.load_toml(\"configs/model.toml\")[o.model])\n",
    "for k, v in model_config.items():\n",
    "    vars(o)[k] = v\n",
    "o.s_joint, o.combs, *_ = utils.gen_all_batch_ids(o.s_joint, o.combs)\n",
    "o.pred_dir = pj(\"result\", o.task, o.experiment, o.model, \"predict\", o.init_model)\n",
    "pred = utils.load_predicted(o, group_by=\"subset\")\n",
    "\n",
    "c = [v[\"z\"][\"joint\"][:, :o.dim_c] for v in pred.values()]\n",
    "subset_num = 28\n",
    "c_ref = np.concatenate(c[:subset_num], axis=0)\n",
    "c_neap = np.concatenate(c[subset_num:], axis=0)\n",
    "c_all = np.concatenate([c_neap, c_ref], axis=0)\n",
    "\n",
    "o_real = copy.deepcopy(o)\n",
    "o_real.task = o.real_task\n",
    "\n",
    "o_real.pred_dir = pj(\"result\", o_real.task, o.real_experiment, o.model, \"predict\", o.init_model_real)\n",
    "pred_real = utils.load_predicted(o_real, group_by=\"subset\")\n",
    "\n",
    "# c_real = [v[\"z\"][\"joint\"][:, :o_real.dim_c] for v in pred_real.values()]\n",
    "# c_real = np.concatenate(c_real, axis=0)\n",
    "c_neap_real = [v[\"z\"][\"joint\"][:, :o_real.dim_c] for v in itemgetter(*[27, 28, 15, 16, 17, 18])(pred_real)]\n",
    "c_neap_real = np.concatenate(c_neap_real, axis=0)\n",
    "c_ref_real = [v[\"z\"][\"joint\"][:, :o_real.dim_c] for v in itemgetter(*[0, 1, 2, 3, 4, 5, 6, 7, 8, 9, 10, 11, 12, 13, 14, 19, 20, 21, 22, 23, 24, 25, 26, 29, 30, 31, 32, 33])(pred_real)]\n",
    "c_ref_real = np.concatenate(c_ref_real, axis=0)\n",
    "c_all_real = np.concatenate([c_neap_real, c_ref_real], axis=0)\n",
    "nbrs_real = NearestNeighbors(n_neighbors=15000, algorithm='ball_tree').fit(c_all_real)\n",
    "distances_real, indices_real = nbrs_real.kneighbors(c_all_real)\n",
    "indices_real\n",
    "\n",
    "nbrs_all = NearestNeighbors(n_neighbors=15000, algorithm='ball_tree').fit(c_all)\n",
    "distances_all, indices_all = nbrs_all.kneighbors(c_all)\n",
    "indices_all"
   ]
  },
  {
   "cell_type": "code",
   "execution_count": 4,
   "metadata": {},
   "outputs": [],
   "source": [
    "neigh_size = [5, 10, 100, 1000, 2500, 5000, 10000, 15000]\n",
    "overlap_num_list = []\n",
    "sum_list = []\n",
    "overlap_percent = []\n",
    "for j in neigh_size:\n",
    "    overlap_num = 0\n",
    "    sum_num = 0\n",
    "    for i in range(len(c_neap)):\n",
    "        overlap_list = list(set(indices_all[i,1:j]) & set(indices_real[i,1:j]))\n",
    "        overlap_num += len(overlap_list)\n",
    "        sum_num += j-1\n",
    "    overlap_num_list.append(overlap_num)\n",
    "    sum_list.append(sum_num)\n",
    "    overlap_percent.append(overlap_num/sum_num)"
   ]
  },
  {
   "cell_type": "code",
   "execution_count": 5,
   "metadata": {},
   "outputs": [
    {
     "name": "stderr",
     "output_type": "stream",
     "text": [
      "100%|██████████| 8/8 [47:20<00:00, 355.11s/it]\n"
     ]
    }
   ],
   "source": [
    "neigh_size = [5, 10, 100, 1000, 2500, 5000, 10000, 15000]\n",
    "overlap_num_list = []\n",
    "sum_list_all = []\n",
    "overlap_percent_all = []\n",
    "for j in tqdm(neigh_size):\n",
    "    overlap_num = 0\n",
    "    sum_num = 0\n",
    "    for i in range(len(c_all)):\n",
    "        overlap_list = list(set(indices_all[i,1:j]) & set(indices_real[i,1:j]))\n",
    "        overlap_num += len(overlap_list)\n",
    "        sum_num += j-1\n",
    "    overlap_num_list.append(overlap_num)\n",
    "    sum_list_all.append(sum_num)\n",
    "    overlap_percent_all.append(overlap_num/sum_num)"
   ]
  },
  {
   "cell_type": "code",
   "execution_count": 9,
   "metadata": {},
   "outputs": [
    {
     "data": {
      "image/png": "[encoded data removed]",
      "text/plain": [
       "<Figure size 720x648 with 1 Axes>"
      ]
     },
     "metadata": {
      "needs_background": "light"
     },
     "output_type": "display_data"
    }
   ],
   "source": [
    "font = {'family':'times new roman', \n",
    "        'weight':'normal', \n",
    "        'size':15}\n",
    "import matplotlib\n",
    "\n",
    "fig = plt.figure(figsize=(10,9))\n",
    "ax=plt.axes()\n",
    "ax.spines['bottom'].set_linewidth('1.0')\n",
    "ax.spines['left'].set_linewidth('1.0')\n",
    "ax.spines['top'].set_linewidth('1.0')\n",
    "ax.spines['right'].set_linewidth('1.0')\n",
    "plt.tick_params(axis=\"both\", which=\"major\", width=1, length=3)\n",
    "plt.plot(neigh_size, overlap_percent, label='Neap Neighborhood overlap', linewidth =1.5)\n",
    "plt.plot(neigh_size, overlap_percent_all, label='Overall Neighborhood overlap', linewidth =1.5)\n",
    "\n",
    "plt.xlabel('Neighborhood size', fontsize=12)\n",
    "plt.ylabel('Neighborhood overlap', fontsize=12)\n",
    "plt.xticks([0, 2500, 5000, 7500, 10000, 12500, 15000], fontsize=12)\n",
    "plt.yticks([0.1, 0.2, 0.3, 0.4, 0.5, 0.6, 0.7], fontsize=12)\n",
    "plt.title('new_query_cl', fontsize=12)\n",
    "plt.legend(prop = {'size':10}, frameon=False)\n",
    "matplotlib.rcParams['pdf.fonttype']=42\n",
    "plt.savefig(\"./analysis/overlap/overlap_new_query_cl.png\")\n",
    "plt.savefig(\"./analysis/overlap/overlap_new_query_cl.pdf\", format='pdf')\n",
    "plt.show()"
   ]
  },
  {
   "cell_type": "code",
   "execution_count": 20,
   "metadata": {},
   "outputs": [
    {
     "name": "stdout",
     "output_type": "stream",
     "text": [
      "          0\n",
      "0  0.113485\n",
      "1  0.130584\n",
      "2  0.199532\n",
      "3  0.327609\n",
      "4  0.404918\n",
      "5  0.476601\n",
      "6  0.559348\n",
      "7  0.608822\n"
     ]
    }
   ],
   "source": [
    "df = pd.DataFrame(overlap_percent)\n",
    "print(df)\n",
    "result_dir = pj(\"analysis\", \"overlap\")\n",
    "utils.mkdirs(result_dir, remove_old=False)\n",
    "df.to_csv(pj(result_dir, \"overlap_percent.csv\"), index=False)"
   ]
  },
  {
   "cell_type": "code",
   "execution_count": 21,
   "metadata": {},
   "outputs": [
    {
     "name": "stdout",
     "output_type": "stream",
     "text": [
      "          0\n",
      "0  0.133741\n",
      "1  0.161154\n",
      "2  0.259064\n",
      "3  0.407382\n",
      "4  0.490494\n",
      "5  0.563837\n",
      "6  0.644187\n",
      "7  0.687515\n"
     ]
    }
   ],
   "source": [
    "df1 = pd.DataFrame(overlap_percent_all)\n",
    "print(df1)\n",
    "result_dir = pj(\"analysis\", \"overlap\")\n",
    "utils.mkdirs(result_dir, remove_old=False)\n",
    "df1.to_csv(pj(result_dir, \"overlap_percent_all.csv\"), index=False)"
   ]
  }
 ],
 "metadata": {
  "kernelspec": {
   "display_name": "base",
   "language": "python",
   "name": "python3"
  },
  "language_info": {
   "codemirror_mode": {
    "name": "ipython",
    "version": 3
   },
   "file_extension": ".py",
   "mimetype": "text/x-python",
   "name": "python",
   "nbconvert_exporter": "python",
   "pygments_lexer": "ipython3",
   "version": "3.7.0"
  },
  "orig_nbformat": 4
 },
 "nbformat": 4,
 "nbformat_minor": 2
}
