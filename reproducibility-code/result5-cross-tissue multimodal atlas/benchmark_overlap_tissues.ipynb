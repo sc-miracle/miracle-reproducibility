{
 "cells": [
  {
   "cell_type": "code",
   "execution_count": 1,
   "metadata": {},
   "outputs": [],
   "source": [
    "import os\n",
    "from os.path import join as pj\n",
    "import argparse\n",
    "import sys\n",
    "sys.path.append(\"modules\")\n",
    "import utils\n",
    "import numpy as np\n",
    "import torch as th\n",
    "import scib\n",
    "import scib.metrics as me\n",
    "import anndata as ad\n",
    "import scipy\n",
    "import pandas as pd\n",
    "import re\n",
    "import itertools\n",
    "from sklearn.neighbors import KNeighborsClassifier\n",
    "from sklearn.metrics import confusion_matrix, f1_score, roc_auc_score\n",
    "from scipy.stats import pearsonr\n",
    "import copy\n",
    "import seaborn as sns\n",
    "import matplotlib.pyplot as plt\n",
    "from sklearn.neighbors import NearestNeighbors\n",
    "from operator import itemgetter\n",
    "from collections import Counter\n",
    "from tqdm import tqdm"
   ]
  },
  {
   "cell_type": "code",
   "execution_count": 2,
   "metadata": {},
   "outputs": [],
   "source": [
    "parser = argparse.ArgumentParser()\n",
    "parser.add_argument('--task', type=str, default='atlas_tissues_cl')\n",
    "parser.add_argument('--real_task', type=str, default='atlas_tissues')\n",
    "parser.add_argument('--reference', type=str, default='atlas_new')\n",
    "parser.add_argument('--experiment', type=str, default='c_3')\n",
    "parser.add_argument('--real_experiment', type=str, default='offline')\n",
    "parser.add_argument('--model', type=str, default='default')\n",
    "parser.add_argument('--init_model', type=str, default='')\n",
    "parser.add_argument('--init_model_real', type=str, default='sp_latest')\n",
    "parser.add_argument('--method', type=str, default='midas_embed')\n",
    "o, _ = parser.parse_known_args()  # for python interactive\n",
    "# o = parser.parse_args()"
   ]
  },
  {
   "cell_type": "code",
   "execution_count": 3,
   "metadata": {},
   "outputs": [
    {
     "name": "stderr",
     "output_type": "stream",
     "text": [
      "100%|██████████| 29/29 [00:00<00:00, 380.38it/s]\n",
      "100%|██████████| 24/24 [00:00<00:00, 365.49it/s]\n",
      "  0%|          | 0/40 [00:00<?, ?it/s]"
     ]
    },
    {
     "name": "stdout",
     "output_type": "stream",
     "text": [
      "Loading predicted variables ...\n",
      "Loading subset 0: z, joint\n",
      "Loading subset 1: z, joint\n",
      "Loading subset 2: z, joint\n"
     ]
    },
    {
     "name": "stderr",
     "output_type": "stream",
     "text": [
      "100%|██████████| 40/40 [00:00<00:00, 329.40it/s]\n",
      "100%|██████████| 38/38 [00:00<00:00, 360.89it/s]\n",
      "100%|██████████| 29/29 [00:00<00:00, 343.00it/s]\n",
      "  0%|          | 0/26 [00:00<?, ?it/s]"
     ]
    },
    {
     "name": "stdout",
     "output_type": "stream",
     "text": [
      "Loading subset 3: z, joint\n",
      "Loading subset 4: z, joint\n",
      "Loading subset 5: z, joint\n"
     ]
    },
    {
     "name": "stderr",
     "output_type": "stream",
     "text": [
      "100%|██████████| 26/26 [00:00<00:00, 389.54it/s]\n",
      "100%|██████████| 27/27 [00:00<00:00, 352.14it/s]\n",
      "100%|██████████| 27/27 [00:00<00:00, 354.04it/s]\n",
      "  0%|          | 0/28 [00:00<?, ?it/s]"
     ]
    },
    {
     "name": "stdout",
     "output_type": "stream",
     "text": [
      "Loading subset 6: z, joint\n",
      "Loading subset 7: z, joint\n",
      "Loading subset 8: z, joint\n"
     ]
    },
    {
     "name": "stderr",
     "output_type": "stream",
     "text": [
      "100%|██████████| 28/28 [00:00<00:00, 108.26it/s]\n",
      "100%|██████████| 24/24 [00:00<00:00, 355.53it/s]\n",
      "100%|██████████| 29/29 [00:00<00:00, 397.72it/s]\n",
      "  0%|          | 0/39 [00:00<?, ?it/s]"
     ]
    },
    {
     "name": "stdout",
     "output_type": "stream",
     "text": [
      "Loading subset 9: z, joint\n",
      "Loading subset 10: z, joint\n",
      "Loading subset 11: z, joint\n"
     ]
    },
    {
     "name": "stderr",
     "output_type": "stream",
     "text": [
      "100%|██████████| 39/39 [00:00<00:00, 348.34it/s]\n",
      "100%|██████████| 38/38 [00:00<00:00, 373.51it/s]\n",
      "  0%|          | 0/44 [00:00<?, ?it/s]"
     ]
    },
    {
     "name": "stdout",
     "output_type": "stream",
     "text": [
      "Loading subset 12: z, joint\n",
      "Loading subset 13: z, joint\n"
     ]
    },
    {
     "name": "stderr",
     "output_type": "stream",
     "text": [
      "100%|██████████| 44/44 [00:00<00:00, 365.22it/s]\n",
      "100%|██████████| 11/11 [00:00<00:00, 397.16it/s]\n",
      "100%|██████████| 17/17 [00:00<00:00, 344.22it/s]\n",
      "100%|██████████| 21/21 [00:00<00:00, 387.79it/s]\n",
      "  0%|          | 0/20 [00:00<?, ?it/s]"
     ]
    },
    {
     "name": "stdout",
     "output_type": "stream",
     "text": [
      "Loading subset 14: z, joint\n",
      "Loading subset 15: z, joint\n",
      "Loading subset 16: z, joint\n",
      "Loading subset 17: z, joint\n"
     ]
    },
    {
     "name": "stderr",
     "output_type": "stream",
     "text": [
      "100%|██████████| 20/20 [00:00<00:00, 359.73it/s]\n",
      "100%|██████████| 15/15 [00:00<00:00, 353.73it/s]\n",
      "100%|██████████| 25/25 [00:00<00:00, 382.22it/s]\n",
      "100%|██████████| 24/24 [00:00<00:00, 363.28it/s]\n",
      "  0%|          | 0/19 [00:00<?, ?it/s]"
     ]
    },
    {
     "name": "stdout",
     "output_type": "stream",
     "text": [
      "Loading subset 18: z, joint\n",
      "Loading subset 19: z, joint\n",
      "Loading subset 20: z, joint\n",
      "Loading subset 21: z, joint\n"
     ]
    },
    {
     "name": "stderr",
     "output_type": "stream",
     "text": [
      "100%|██████████| 19/19 [00:00<00:00, 329.25it/s]\n",
      "100%|██████████| 21/21 [00:00<00:00, 383.17it/s]\n",
      "  0%|          | 0/28 [00:00<?, ?it/s]"
     ]
    },
    {
     "name": "stdout",
     "output_type": "stream",
     "text": [
      "Loading subset 22: z, joint\n",
      "Loading subset 23: z, joint\n"
     ]
    },
    {
     "name": "stderr",
     "output_type": "stream",
     "text": [
      "100%|██████████| 28/28 [00:00<00:00, 80.10it/s]\n",
      "100%|██████████| 24/24 [00:00<00:00, 364.60it/s]\n",
      "100%|██████████| 35/35 [00:00<00:00, 373.45it/s]\n",
      "  0%|          | 0/35 [00:00<?, ?it/s]"
     ]
    },
    {
     "name": "stdout",
     "output_type": "stream",
     "text": [
      "Loading subset 24: z, joint\n",
      "Loading subset 25: z, joint\n",
      "Loading subset 26: z, joint\n"
     ]
    },
    {
     "name": "stderr",
     "output_type": "stream",
     "text": [
      "100%|██████████| 35/35 [00:00<00:00, 353.88it/s]\n",
      "100%|██████████| 22/22 [00:00<00:00, 397.52it/s]\n",
      "100%|██████████| 20/20 [00:00<00:00, 355.73it/s]\n",
      "  0%|          | 0/47 [00:00<?, ?it/s]"
     ]
    },
    {
     "name": "stdout",
     "output_type": "stream",
     "text": [
      "Loading subset 27: z, joint\n",
      "Loading subset 28: z, joint\n",
      "Loading subset 29: z, joint\n"
     ]
    },
    {
     "name": "stderr",
     "output_type": "stream",
     "text": [
      "100%|██████████| 47/47 [00:00<00:00, 367.57it/s]\n",
      "100%|██████████| 58/58 [00:00<00:00, 332.67it/s]\n",
      "  0%|          | 0/39 [00:00<?, ?it/s]"
     ]
    },
    {
     "name": "stdout",
     "output_type": "stream",
     "text": [
      "Loading subset 30: z, joint\n",
      "Loading subset 31: z, joint\n"
     ]
    },
    {
     "name": "stderr",
     "output_type": "stream",
     "text": [
      "100%|██████████| 39/39 [00:00<00:00, 349.93it/s]\n",
      "100%|██████████| 52/52 [00:00<00:00, 366.45it/s]\n",
      "  0%|          | 0/28 [00:00<?, ?it/s]"
     ]
    },
    {
     "name": "stdout",
     "output_type": "stream",
     "text": [
      "Loading subset 32: z, joint\n",
      "Loading subset 33: z, joint\n"
     ]
    },
    {
     "name": "stderr",
     "output_type": "stream",
     "text": [
      "100%|██████████| 28/28 [00:00<00:00, 362.10it/s]\n",
      "100%|██████████| 22/22 [00:00<00:00, 386.77it/s]\n",
      "100%|██████████| 42/42 [00:00<00:00, 341.71it/s]\n",
      "  0%|          | 0/17 [00:00<?, ?it/s]"
     ]
    },
    {
     "name": "stdout",
     "output_type": "stream",
     "text": [
      "Loading subset 34: z, joint\n",
      "Loading subset 35: z, joint\n",
      "Loading subset 36: z, joint\n"
     ]
    },
    {
     "name": "stderr",
     "output_type": "stream",
     "text": [
      "100%|██████████| 17/17 [00:00<00:00, 375.52it/s]\n"
     ]
    },
    {
     "name": "stdout",
     "output_type": "stream",
     "text": [
      "Converting to numpy ...\n",
      "Converting subset 0: s, joint\n",
      "Converting subset 0: z, joint\n",
      "Converting subset 1: s, joint\n",
      "Converting subset 1: z, joint\n",
      "Converting subset 2: s, joint\n",
      "Converting subset 2: z, joint\n",
      "Converting subset 3: s, joint\n",
      "Converting subset 3: z, joint\n",
      "Converting subset 4: s, joint\n",
      "Converting subset 4: z, joint\n",
      "Converting subset 5: s, joint\n",
      "Converting subset 5: z, joint\n",
      "Converting subset 6: s, joint\n",
      "Converting subset 6: z, joint\n",
      "Converting subset 7: s, joint\n",
      "Converting subset 7: z, joint\n",
      "Converting subset 8: s, joint\n",
      "Converting subset 8: z, joint\n",
      "Converting subset 9: s, joint\n",
      "Converting subset 9: z, joint\n",
      "Converting subset 10: s, joint\n",
      "Converting subset 10: z, joint\n",
      "Converting subset 11: s, joint\n",
      "Converting subset 11: z, joint\n",
      "Converting subset 12: s, joint\n",
      "Converting subset 12: z, joint\n",
      "Converting subset 13: s, joint\n",
      "Converting subset 13: z, joint\n",
      "Converting subset 14: s, joint\n",
      "Converting subset 14: z, joint\n",
      "Converting subset 15: s, joint\n",
      "Converting subset 15: z, joint\n",
      "Converting subset 16: s, joint\n",
      "Converting subset 16: z, joint\n",
      "Converting subset 17: s, joint\n",
      "Converting subset 17: z, joint\n",
      "Converting subset 18: s, joint\n",
      "Converting subset 18: z, joint\n",
      "Converting subset 19: s, joint\n",
      "Converting subset 19: z, joint\n",
      "Converting subset 20: s, joint\n",
      "Converting subset 20: z, joint\n",
      "Converting subset 21: s, joint\n",
      "Converting subset 21: z, joint\n"
     ]
    },
    {
     "name": "stdout",
     "output_type": "stream",
     "text": [
      "Converting subset 22: s, joint\n",
      "Converting subset 22: z, joint\n",
      "Converting subset 23: s, joint\n",
      "Converting subset 23: z, joint\n",
      "Converting subset 24: s, joint\n",
      "Converting subset 24: z, joint\n",
      "Converting subset 25: s, joint\n",
      "Converting subset 25: z, joint\n",
      "Converting subset 26: s, joint\n",
      "Converting subset 26: z, joint\n",
      "Converting subset 27: s, joint\n",
      "Converting subset 27: z, joint\n",
      "Converting subset 28: s, joint\n",
      "Converting subset 28: z, joint\n",
      "Converting subset 29: s, joint\n",
      "Converting subset 29: z, joint\n",
      "Converting subset 30: s, joint\n",
      "Converting subset 30: z, joint\n",
      "Converting subset 31: s, joint\n",
      "Converting subset 31: z, joint\n"
     ]
    },
    {
     "name": "stderr",
     "output_type": "stream",
     "text": [
      " 38%|███▊      | 11/29 [00:00<00:00, 84.14it/s]"
     ]
    },
    {
     "name": "stdout",
     "output_type": "stream",
     "text": [
      "Converting subset 32: s, joint\n",
      "Converting subset 32: z, joint\n",
      "Converting subset 33: s, joint\n",
      "Converting subset 33: z, joint\n",
      "Converting subset 34: s, joint\n",
      "Converting subset 34: z, joint\n",
      "Converting subset 35: s, joint\n",
      "Converting subset 35: z, joint\n",
      "Converting subset 36: s, joint\n",
      "Converting subset 36: z, joint\n",
      "Loading predicted variables ...\n",
      "Loading subset 0: z, joint\n"
     ]
    },
    {
     "name": "stderr",
     "output_type": "stream",
     "text": [
      "100%|██████████| 29/29 [00:00<00:00, 166.19it/s]\n",
      "100%|██████████| 24/24 [00:00<00:00, 357.84it/s]\n",
      "100%|██████████| 40/40 [00:00<00:00, 351.14it/s]\n",
      "  0%|          | 0/38 [00:00<?, ?it/s]"
     ]
    },
    {
     "name": "stdout",
     "output_type": "stream",
     "text": [
      "Loading subset 1: z, joint\n",
      "Loading subset 2: z, joint\n",
      "Loading subset 3: z, joint\n"
     ]
    },
    {
     "name": "stderr",
     "output_type": "stream",
     "text": [
      "100%|██████████| 38/38 [00:00<00:00, 356.02it/s]\n",
      "100%|██████████| 29/29 [00:00<00:00, 353.16it/s]\n",
      "100%|██████████| 26/26 [00:00<00:00, 354.63it/s]\n",
      "  0%|          | 0/27 [00:00<?, ?it/s]"
     ]
    },
    {
     "name": "stdout",
     "output_type": "stream",
     "text": [
      "Loading subset 4: z, joint\n",
      "Loading subset 5: z, joint\n",
      "Loading subset 6: z, joint\n"
     ]
    },
    {
     "name": "stderr",
     "output_type": "stream",
     "text": [
      "100%|██████████| 27/27 [00:00<00:00, 351.37it/s]\n",
      "100%|██████████| 27/27 [00:00<00:00, 382.05it/s]\n",
      "100%|██████████| 28/28 [00:00<00:00, 356.51it/s]\n",
      "  0%|          | 0/24 [00:00<?, ?it/s]"
     ]
    },
    {
     "name": "stdout",
     "output_type": "stream",
     "text": [
      "Loading subset 7: z, joint\n",
      "Loading subset 8: z, joint\n",
      "Loading subset 9: z, joint\n"
     ]
    },
    {
     "name": "stderr",
     "output_type": "stream",
     "text": [
      "100%|██████████| 24/24 [00:00<00:00, 350.73it/s]\n",
      "100%|██████████| 29/29 [00:00<00:00, 350.11it/s]\n",
      "100%|██████████| 39/39 [00:00<00:00, 352.65it/s]\n"
     ]
    },
    {
     "name": "stdout",
     "output_type": "stream",
     "text": [
      "Loading subset 10: z, joint\n",
      "Loading subset 11: z, joint\n",
      "Loading subset 12: z, joint\n"
     ]
    },
    {
     "name": "stderr",
     "output_type": "stream",
     "text": [
      "100%|██████████| 38/38 [00:00<00:00, 121.09it/s]\n",
      "100%|██████████| 44/44 [00:00<00:00, 358.69it/s]\n",
      "100%|██████████| 11/11 [00:00<00:00, 326.21it/s]\n",
      "  0%|          | 0/17 [00:00<?, ?it/s]"
     ]
    },
    {
     "name": "stdout",
     "output_type": "stream",
     "text": [
      "Loading subset 13: z, joint\n",
      "Loading subset 14: z, joint\n",
      "Loading subset 15: z, joint\n"
     ]
    },
    {
     "name": "stderr",
     "output_type": "stream",
     "text": [
      "100%|██████████| 17/17 [00:00<00:00, 381.15it/s]\n",
      "100%|██████████| 21/21 [00:00<00:00, 345.96it/s]\n",
      "100%|██████████| 20/20 [00:00<00:00, 341.63it/s]\n",
      "100%|██████████| 15/15 [00:00<00:00, 392.45it/s]\n",
      "  0%|          | 0/25 [00:00<?, ?it/s]"
     ]
    },
    {
     "name": "stdout",
     "output_type": "stream",
     "text": [
      "Loading subset 16: z, joint\n",
      "Loading subset 17: z, joint\n",
      "Loading subset 18: z, joint\n",
      "Loading subset 19: z, joint\n"
     ]
    },
    {
     "name": "stderr",
     "output_type": "stream",
     "text": [
      "100%|██████████| 25/25 [00:00<00:00, 353.42it/s]\n",
      "100%|██████████| 24/24 [00:00<00:00, 373.16it/s]\n",
      "100%|██████████| 19/19 [00:00<00:00, 352.25it/s]\n",
      "100%|██████████| 21/21 [00:00<00:00, 355.04it/s]\n",
      "  0%|          | 0/28 [00:00<?, ?it/s]"
     ]
    },
    {
     "name": "stdout",
     "output_type": "stream",
     "text": [
      "Loading subset 20: z, joint\n",
      "Loading subset 21: z, joint\n",
      "Loading subset 22: z, joint\n",
      "Loading subset 23: z, joint\n"
     ]
    },
    {
     "name": "stderr",
     "output_type": "stream",
     "text": [
      "100%|██████████| 28/28 [00:00<00:00, 385.18it/s]\n",
      "100%|██████████| 24/24 [00:00<00:00, 346.57it/s]\n",
      "100%|██████████| 35/35 [00:00<00:00, 366.21it/s]\n",
      "  0%|          | 0/35 [00:00<?, ?it/s]"
     ]
    },
    {
     "name": "stdout",
     "output_type": "stream",
     "text": [
      "Loading subset 24: z, joint\n",
      "Loading subset 25: z, joint\n",
      "Loading subset 26: z, joint\n"
     ]
    },
    {
     "name": "stderr",
     "output_type": "stream",
     "text": [
      "100%|██████████| 35/35 [00:00<00:00, 356.98it/s]\n",
      "100%|██████████| 22/22 [00:00<00:00, 220.69it/s]\n",
      "100%|██████████| 20/20 [00:00<00:00, 340.69it/s]\n",
      "  0%|          | 0/47 [00:00<?, ?it/s]"
     ]
    },
    {
     "name": "stdout",
     "output_type": "stream",
     "text": [
      "Loading subset 27: z, joint\n",
      "Loading subset 28: z, joint\n",
      "Loading subset 29: z, joint\n"
     ]
    },
    {
     "name": "stderr",
     "output_type": "stream",
     "text": [
      "100%|██████████| 47/47 [00:00<00:00, 96.93it/s] \n",
      "100%|██████████| 58/58 [00:00<00:00, 340.71it/s]\n",
      "  0%|          | 0/39 [00:00<?, ?it/s]"
     ]
    },
    {
     "name": "stdout",
     "output_type": "stream",
     "text": [
      "Loading subset 30: z, joint\n",
      "Loading subset 31: z, joint\n"
     ]
    },
    {
     "name": "stderr",
     "output_type": "stream",
     "text": [
      "100%|██████████| 39/39 [00:00<00:00, 304.41it/s]\n",
      "100%|██████████| 52/52 [00:00<00:00, 374.04it/s]\n",
      "  0%|          | 0/28 [00:00<?, ?it/s]"
     ]
    },
    {
     "name": "stdout",
     "output_type": "stream",
     "text": [
      "Loading subset 32: z, joint\n",
      "Loading subset 33: z, joint\n"
     ]
    },
    {
     "name": "stderr",
     "output_type": "stream",
     "text": [
      "100%|██████████| 28/28 [00:00<00:00, 346.53it/s]\n",
      "100%|██████████| 22/22 [00:00<00:00, 350.84it/s]\n",
      "100%|██████████| 42/42 [00:00<00:00, 357.89it/s]\n",
      "  0%|          | 0/17 [00:00<?, ?it/s]"
     ]
    },
    {
     "name": "stdout",
     "output_type": "stream",
     "text": [
      "Loading subset 34: z, joint\n",
      "Loading subset 35: z, joint\n",
      "Loading subset 36: z, joint\n"
     ]
    },
    {
     "name": "stderr",
     "output_type": "stream",
     "text": [
      "100%|██████████| 17/17 [00:00<00:00, 324.39it/s]\n"
     ]
    },
    {
     "name": "stdout",
     "output_type": "stream",
     "text": [
      "Converting to numpy ...\n",
      "Converting subset 0: s, joint\n",
      "Converting subset 0: z, joint\n",
      "Converting subset 1: s, joint\n",
      "Converting subset 1: z, joint\n",
      "Converting subset 2: s, joint\n",
      "Converting subset 2: z, joint\n",
      "Converting subset 3: s, joint\n",
      "Converting subset 3: z, joint\n",
      "Converting subset 4: s, joint\n",
      "Converting subset 4: z, joint\n",
      "Converting subset 5: s, joint\n",
      "Converting subset 5: z, joint\n",
      "Converting subset 6: s, joint\n",
      "Converting subset 6: z, joint\n",
      "Converting subset 7: s, joint\n",
      "Converting subset 7: z, joint\n",
      "Converting subset 8: s, joint\n",
      "Converting subset 8: z, joint\n",
      "Converting subset 9: s, joint\n",
      "Converting subset 9: z, joint\n",
      "Converting subset 10: s, joint\n",
      "Converting subset 10: z, joint\n",
      "Converting subset 11: s, joint\n",
      "Converting subset 11: z, joint\n",
      "Converting subset 12: s, joint\n",
      "Converting subset 12: z, joint\n",
      "Converting subset 13: s, joint\n",
      "Converting subset 13: z, joint\n",
      "Converting subset 14: s, joint\n",
      "Converting subset 14: z, joint\n",
      "Converting subset 15: s, joint\n",
      "Converting subset 15: z, joint\n",
      "Converting subset 16: s, joint\n",
      "Converting subset 16: z, joint\n",
      "Converting subset 17: s, joint\n",
      "Converting subset 17: z, joint\n",
      "Converting subset 18: s, joint\n",
      "Converting subset 18: z, joint\n",
      "Converting subset 19: s, joint\n",
      "Converting subset 19: z, joint\n",
      "Converting subset 20: s, joint\n",
      "Converting subset 20: z, joint\n",
      "Converting subset 21: s, joint\n",
      "Converting subset 21: z, joint\n",
      "Converting subset 22: s, joint\n",
      "Converting subset 22: z, joint\n",
      "Converting subset 23: s, joint\n",
      "Converting subset 23: z, joint\n",
      "Converting subset 24: s, joint\n",
      "Converting subset 24: z, joint\n",
      "Converting subset 25: s, joint\n",
      "Converting subset 25: z, joint\n",
      "Converting subset 26: s, joint\n",
      "Converting subset 26: z, joint\n",
      "Converting subset 27: s, joint\n",
      "Converting subset 27: z, joint\n",
      "Converting subset 28: s, joint\n",
      "Converting subset 28: z, joint\n",
      "Converting subset 29: s, joint\n",
      "Converting subset 29: z, joint\n",
      "Converting subset 30: s, joint\n",
      "Converting subset 30: z, joint\n",
      "Converting subset 31: s, joint\n",
      "Converting subset 31: z, joint\n",
      "Converting subset 32: s, joint\n",
      "Converting subset 32: z, joint\n",
      "Converting subset 33: s, joint\n",
      "Converting subset 33: z, joint\n",
      "Converting subset 34: s, joint\n",
      "Converting subset 34: z, joint\n",
      "Converting subset 35: s, joint\n",
      "Converting subset 35: z, joint\n",
      "Converting subset 36: s, joint\n",
      "Converting subset 36: z, joint\n"
     ]
    },
    {
     "data": {
      "text/plain": [
       "array([[     0,   2755, 156305, ...,  48745, 124476, 127633],\n",
       "       [     1,   2231,   1436, ..., 216293,  98148,   3475],\n",
       "       [     2,   2075,  16500, ...,  36751, 167059, 110644],\n",
       "       ...,\n",
       "       [273247, 272576, 272969, ..., 158523,  25479, 100087],\n",
       "       [273248, 272000, 271372, ...,  81099, 144553,  58367],\n",
       "       [273249, 272504, 273088, ...,  61377, 131481,  62091]])"
      ]
     },
     "execution_count": 3,
     "metadata": {},
     "output_type": "execute_result"
    }
   ],
   "source": [
    "# Load latent variables of reference data\n",
    "cfg_task = re.sub(\"_atlas|_generalize|_transfer|_ref_.*\", \"\", o.task)\n",
    "data_config = utils.gen_data_config(cfg_task)\n",
    "data_config_ref = utils.gen_data_config(o.reference)\n",
    "data_config_ref[\"raw_data_dirs\"] += data_config[\"raw_data_dirs\"]\n",
    "data_config_ref[\"raw_data_frags\"] += data_config[\"raw_data_frags\"]\n",
    "data_config_ref[\"combs\"] = data_config[\"combs\"]\n",
    "data_config_ref[\"comb_ratios\"] = data_config[\"comb_ratios\"]\n",
    "data_config_ref[\"s_joint\"] = data_config[\"s_joint\"]\n",
    "data_config = utils.load_toml(\"configs/data.toml\")[cfg_task]\n",
    "for k, v in data_config.items():\n",
    "    vars(o)[k] = v\n",
    "model_config = utils.load_toml(\"configs/model.toml\")[\"default\"]\n",
    "if o.model != \"default\":\n",
    "    model_config.update(utils.load_toml(\"configs/model.toml\")[o.model])\n",
    "for k, v in model_config.items():\n",
    "    vars(o)[k] = v\n",
    "o.s_joint, o.combs, *_ = utils.gen_all_batch_ids(o.s_joint, o.combs)\n",
    "o.pred_dir = pj(\"result\", o.task, o.experiment, o.model, \"predict\", o.init_model)\n",
    "pred = utils.load_predicted(o, group_by=\"subset\")\n",
    "\n",
    "c = [v[\"z\"][\"joint\"][:, :o.dim_c] for v in pred.values()]\n",
    "subset_num = 34\n",
    "c_ref = np.concatenate(c[:subset_num], axis=0)\n",
    "c_orgs = np.concatenate(c[subset_num:], axis=0)\n",
    "c_all = np.concatenate([c_orgs, c_ref], axis=0)\n",
    "\n",
    "o_real = copy.deepcopy(o)\n",
    "o_real.task = o.real_task\n",
    "\n",
    "o_real.pred_dir = pj(\"result\", o_real.task, o.real_experiment, o.model, \"predict\", o.init_model_real)\n",
    "pred_real = utils.load_predicted(o_real, group_by=\"subset\")\n",
    "\n",
    "c_real = [v[\"z\"][\"joint\"][:, :o_real.dim_c] for v in pred_real.values()]\n",
    "# c_real = np.concatenate(c_real, axis=0)\n",
    "c_ref_real = np.concatenate(c_real[:subset_num], axis=0)\n",
    "c_orgs_real = np.concatenate(c_real[subset_num:], axis=0)\n",
    "c_all_real = np.concatenate([c_orgs_real, c_ref_real], axis=0)\n",
    "c_all_real = np.concatenate([c_orgs_real, c_ref_real], axis=0)\n",
    "nbrs_real = NearestNeighbors(n_neighbors=15000, algorithm='ball_tree').fit(c_all_real)\n",
    "distances_real, indices_real = nbrs_real.kneighbors(c_all_real)\n",
    "indices_real\n",
    "\n",
    "\n",
    "nbrs_all = NearestNeighbors(n_neighbors=15000, algorithm='ball_tree').fit(c_all)\n",
    "distances_all, indices_all = nbrs_all.kneighbors(c_all)\n",
    "indices_all"
   ]
  },
  {
   "cell_type": "code",
   "execution_count": null,
   "metadata": {},
   "outputs": [],
   "source": [
    "neigh_size = [5, 10, 100, 1000, 2500, 5000, 10000, 15000]\n",
    "overlap_num_list = []\n",
    "sum_list = []\n",
    "overlap_percent = []\n",
    "for j in tqdm(neigh_size):\n",
    "    overlap_num = 0\n",
    "    sum_num = 0\n",
    "    for i in range(len(c_orgs)):\n",
    "        overlap_list = list(set(indices_all[i,1:j]) & set(indices_real[i,1:j]))\n",
    "        overlap_num += len(overlap_list)\n",
    "        sum_num += j-1\n",
    "    overlap_num_list.append(overlap_num)\n",
    "    sum_list.append(sum_num)\n",
    "    overlap_percent.append(overlap_num/sum_num)"
   ]
  },
  {
   "cell_type": "code",
   "execution_count": null,
   "metadata": {},
   "outputs": [],
   "source": [
    "neigh_size = [5, 10, 100, 1000, 2500, 5000, 10000, 15000]\n",
    "overlap_num_list = []\n",
    "sum_list_all = []\n",
    "overlap_percent_all = []\n",
    "for j in tqdm(neigh_size):\n",
    "    overlap_num = 0\n",
    "    sum_num = 0\n",
    "    for i in range(len(c_all)):\n",
    "        overlap_list = list(set(indices_all[i,1:j]) & set(indices_real[i,1:j]))\n",
    "        overlap_num += len(overlap_list)\n",
    "        sum_num += j-1\n",
    "    overlap_num_list.append(overlap_num)\n",
    "    sum_list_all.append(sum_num)\n",
    "    overlap_percent_all.append(overlap_num/sum_num)"
   ]
  },
  {
   "cell_type": "code",
   "execution_count": null,
   "metadata": {},
   "outputs": [],
   "source": [
    "fig = plt.figure()\n",
    "ax=plt.axes()\n",
    "ax.spines['bottom'].set_linewidth('1.0')\n",
    "ax.spines['left'].set_linewidth('1.0')\n",
    "ax.spines['top'].set_linewidth('1.0')\n",
    "ax.spines['right'].set_linewidth('1.0')\n",
    "plt.tick_params(axis=\"both\", which=\"major\", width=1, length=3)\n",
    "plt.plot(neigh_size[:8], overlap_percent[:8], label='Query Neighborhood overlap', linewidth =1.5)\n",
    "plt.plot(neigh_size[:8], overlap_percent_all[:8], label='Overall Neighborhood overlap', linewidth =1.5)\n",
    "\n",
    "plt.xlabel('Neighborhood size', fontsize=12)\n",
    "plt.ylabel('Neighborhood overlap', fontsize=12)\n",
    "plt.xticks(fontsize=12)\n",
    "plt.yticks(fontsize=12)\n",
    "plt.title('atlas_tissues_cl', fontsize=12)\n",
    "plt.legend(prop = {'size':8}, frameon=False)\n",
    "plt.savefig(\"overlap_tissues_cl.png\")\n",
    "plt.show()\n"
   ]
  },
  {
   "cell_type": "code",
   "execution_count": null,
   "metadata": {},
   "outputs": [],
   "source": [
    "df = pd.DataFrame(overlap_percent)\n",
    "df1 = pd.DataFrame(overlap_percent_all)\n",
    "result_dir = pj(\"analysis\", \"overlap\")\n",
    "utils.mkdirs(result_dir, remove_old=False)\n",
    "df.to_csv(pj(result_dir, \"overlap_percent_tissues.csv\"), index=False)\n",
    "df1.to_csv(pj(result_dir, \"overlap_percent_all_tissues.csv\"), index=False)"
   ]
  }
 ],
 "metadata": {
  "kernelspec": {
   "display_name": "base",
   "language": "python",
   "name": "python3"
  },
  "language_info": {
   "codemirror_mode": {
    "name": "ipython",
    "version": 3
   },
   "file_extension": ".py",
   "mimetype": "text/x-python",
   "name": "python",
   "nbconvert_exporter": "python",
   "pygments_lexer": "ipython3",
   "version": "3.8.8"
  },
  "orig_nbformat": 4
 },
 "nbformat": 4,
 "nbformat_minor": 2
}
