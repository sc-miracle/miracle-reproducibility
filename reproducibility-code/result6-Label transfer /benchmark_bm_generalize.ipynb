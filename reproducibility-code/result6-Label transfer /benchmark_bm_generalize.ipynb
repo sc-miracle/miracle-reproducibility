{
 "cells": [
  {
   "cell_type": "code",
   "execution_count": 1,
   "metadata": {},
   "outputs": [
    {
     "name": "stderr",
     "output_type": "stream",
     "text": [
      "2024-01-09 01:48:20.069236: I tensorflow/stream_executor/platform/default/dso_loader.cc:53] Successfully opened dynamic library libcudart.so.11.0\n"
     ]
    }
   ],
   "source": [
    "import os\n",
    "from os.path import join as pj\n",
    "import argparse\n",
    "import sys\n",
    "sys.path.append(\"modules\")\n",
    "import utils\n",
    "import numpy as np\n",
    "from sklearn.neighbors import KNeighborsClassifier\n",
    "from sklearn.metrics import confusion_matrix, f1_score, roc_auc_score\n",
    "import seaborn as sns\n",
    "from joblib import Parallel, delayed\n",
    "import rpy2.robjects as robjects\n",
    "import umap\n",
    "import re\n",
    "import matplotlib.pyplot as plt\n",
    "from sklearn import metrics\n",
    "import scanpy as sc\n",
    "import pandas as pd\n",
    "import csv"
   ]
  },
  {
   "cell_type": "code",
   "execution_count": 2,
   "metadata": {},
   "outputs": [],
   "source": [
    "parser = argparse.ArgumentParser()\n",
    "parser.add_argument('--task', type=str, default='single_bm_cl')\n",
    "parser.add_argument('--reference', type=str, default='atlas_new')\n",
    "parser.add_argument('--experiment', type=str, default='query_to_ref_1')\n",
    "parser.add_argument('--model', type=str, default='default')\n",
    "parser.add_argument('--init_model', type=str, default='')\n",
    "parser.add_argument('--init_model_ref', type=str, default='sp_latest')\n",
    "parser.add_argument('--method', type=str, default='midas_embed')\n",
    "o, _ = parser.parse_known_args()  # for python interactive\n",
    "# o = parser.parse_args()"
   ]
  },
  {
   "attachments": {},
   "cell_type": "markdown",
   "metadata": {},
   "source": [
    "# Load data and labels"
   ]
  },
  {
   "cell_type": "code",
   "execution_count": 3,
   "metadata": {},
   "outputs": [
    {
     "name": "stderr",
     "output_type": "stream",
     "text": [
      " 21%|██        | 6/29 [00:00<00:00, 58.40it/s]"
     ]
    },
    {
     "name": "stdout",
     "output_type": "stream",
     "text": [
      "Loading predicted variables ...\n",
      "Loading subset 0: z, joint\n"
     ]
    },
    {
     "name": "stderr",
     "output_type": "stream",
     "text": [
      "100%|██████████| 29/29 [00:00<00:00, 62.99it/s]\n",
      "100%|██████████| 24/24 [00:00<00:00, 223.26it/s]\n",
      "  0%|          | 0/40 [00:00<?, ?it/s]"
     ]
    },
    {
     "name": "stdout",
     "output_type": "stream",
     "text": [
      "Loading subset 1: z, joint\n",
      "Loading subset 2: z, joint\n"
     ]
    },
    {
     "name": "stderr",
     "output_type": "stream",
     "text": [
      "100%|██████████| 40/40 [00:00<00:00, 158.08it/s]\n",
      " 32%|███▏      | 12/38 [00:00<00:00, 109.82it/s]"
     ]
    },
    {
     "name": "stdout",
     "output_type": "stream",
     "text": [
      "Loading subset 3: z, joint\n"
     ]
    },
    {
     "name": "stderr",
     "output_type": "stream",
     "text": [
      "100%|██████████| 38/38 [00:00<00:00, 139.30it/s]\n",
      "100%|██████████| 29/29 [00:00<00:00, 157.58it/s]\n",
      "  0%|          | 0/26 [00:00<?, ?it/s]"
     ]
    },
    {
     "name": "stdout",
     "output_type": "stream",
     "text": [
      "Loading subset 4: z, joint\n",
      "Loading subset 5: z, joint\n"
     ]
    },
    {
     "name": "stderr",
     "output_type": "stream",
     "text": [
      "100%|██████████| 26/26 [00:00<00:00, 119.77it/s]\n",
      "100%|██████████| 27/27 [00:00<00:00, 152.82it/s]\n",
      "  0%|          | 0/27 [00:00<?, ?it/s]"
     ]
    },
    {
     "name": "stdout",
     "output_type": "stream",
     "text": [
      "Loading subset 6: z, joint\n",
      "Loading subset 7: z, joint\n"
     ]
    },
    {
     "name": "stderr",
     "output_type": "stream",
     "text": [
      "100%|██████████| 27/27 [00:00<00:00, 88.85it/s] \n",
      " 21%|██▏       | 6/28 [00:00<00:00, 56.71it/s]"
     ]
    },
    {
     "name": "stdout",
     "output_type": "stream",
     "text": [
      "Loading subset 8: z, joint\n"
     ]
    },
    {
     "name": "stderr",
     "output_type": "stream",
     "text": [
      "100%|██████████| 28/28 [00:00<00:00, 74.28it/s]\n",
      "100%|██████████| 24/24 [00:00<00:00, 262.55it/s]\n",
      "  0%|          | 0/29 [00:00<?, ?it/s]"
     ]
    },
    {
     "name": "stdout",
     "output_type": "stream",
     "text": [
      "Loading subset 9: z, joint\n",
      "Loading subset 10: z, joint\n"
     ]
    },
    {
     "name": "stderr",
     "output_type": "stream",
     "text": [
      "100%|██████████| 29/29 [00:00<00:00, 233.28it/s]\n",
      " 44%|████▎     | 17/39 [00:00<00:00, 149.44it/s]"
     ]
    },
    {
     "name": "stdout",
     "output_type": "stream",
     "text": [
      "Loading subset 11: z, joint\n"
     ]
    },
    {
     "name": "stderr",
     "output_type": "stream",
     "text": [
      "100%|██████████| 39/39 [00:00<00:00, 120.14it/s]\n",
      " 29%|██▉       | 11/38 [00:00<00:00, 102.14it/s]"
     ]
    },
    {
     "name": "stdout",
     "output_type": "stream",
     "text": [
      "Loading subset 12: z, joint\n"
     ]
    },
    {
     "name": "stderr",
     "output_type": "stream",
     "text": [
      "100%|██████████| 38/38 [00:00<00:00, 85.42it/s] \n",
      " 18%|█▊        | 8/44 [00:00<00:00, 56.11it/s]"
     ]
    },
    {
     "name": "stdout",
     "output_type": "stream",
     "text": [
      "Loading subset 13: z, joint\n"
     ]
    },
    {
     "name": "stderr",
     "output_type": "stream",
     "text": [
      "100%|██████████| 44/44 [00:00<00:00, 98.89it/s]\n",
      "  0%|          | 0/11 [00:00<?, ?it/s]"
     ]
    },
    {
     "name": "stdout",
     "output_type": "stream",
     "text": [
      "Loading subset 14: z, joint\n"
     ]
    },
    {
     "name": "stderr",
     "output_type": "stream",
     "text": [
      "100%|██████████| 11/11 [00:00<00:00, 27.47it/s]\n",
      "100%|██████████| 17/17 [00:00<00:00, 166.92it/s]\n",
      "  0%|          | 0/21 [00:00<?, ?it/s]"
     ]
    },
    {
     "name": "stdout",
     "output_type": "stream",
     "text": [
      "Loading subset 15: z, joint\n",
      "Loading subset 16: z, joint\n"
     ]
    },
    {
     "name": "stderr",
     "output_type": "stream",
     "text": [
      "100%|██████████| 21/21 [00:00<00:00, 172.64it/s]\n",
      " 65%|██████▌   | 13/20 [00:00<00:00, 114.04it/s]"
     ]
    },
    {
     "name": "stdout",
     "output_type": "stream",
     "text": [
      "Loading subset 17: z, joint\n"
     ]
    },
    {
     "name": "stderr",
     "output_type": "stream",
     "text": [
      "100%|██████████| 20/20 [00:00<00:00, 87.92it/s] \n",
      "100%|██████████| 15/15 [00:00<00:00, 107.33it/s]\n",
      "  0%|          | 0/25 [00:00<?, ?it/s]"
     ]
    },
    {
     "name": "stdout",
     "output_type": "stream",
     "text": [
      "Loading subset 18: z, joint\n",
      "Loading subset 19: z, joint\n"
     ]
    },
    {
     "name": "stderr",
     "output_type": "stream",
     "text": [
      "100%|██████████| 25/25 [00:00<00:00, 219.91it/s]\n",
      "100%|██████████| 24/24 [00:00<00:00, 278.36it/s]\n",
      "100%|██████████| 19/19 [00:00<00:00, 262.14it/s]\n",
      "  0%|          | 0/21 [00:00<?, ?it/s]"
     ]
    },
    {
     "name": "stdout",
     "output_type": "stream",
     "text": [
      "Loading subset 20: z, joint\n",
      "Loading subset 21: z, joint\n",
      "Loading subset 22: z, joint\n"
     ]
    },
    {
     "name": "stderr",
     "output_type": "stream",
     "text": [
      "100%|██████████| 21/21 [00:00<00:00, 160.49it/s]\n",
      "100%|██████████| 28/28 [00:00<00:00, 154.58it/s]\n",
      "  0%|          | 0/24 [00:00<?, ?it/s]"
     ]
    },
    {
     "name": "stdout",
     "output_type": "stream",
     "text": [
      "Loading subset 23: z, joint\n",
      "Loading subset 24: z, joint\n"
     ]
    },
    {
     "name": "stderr",
     "output_type": "stream",
     "text": [
      "100%|██████████| 24/24 [00:00<00:00, 187.85it/s]\n",
      " 57%|█████▋    | 20/35 [00:00<00:00, 197.49it/s]"
     ]
    },
    {
     "name": "stdout",
     "output_type": "stream",
     "text": [
      "Loading subset 25: z, joint\n"
     ]
    },
    {
     "name": "stderr",
     "output_type": "stream",
     "text": [
      "100%|██████████| 35/35 [00:00<00:00, 99.43it/s] \n",
      " 14%|█▍        | 5/35 [00:00<00:00, 49.31it/s]"
     ]
    },
    {
     "name": "stdout",
     "output_type": "stream",
     "text": [
      "Loading subset 26: z, joint\n"
     ]
    },
    {
     "name": "stderr",
     "output_type": "stream",
     "text": [
      "100%|██████████| 35/35 [00:00<00:00, 115.98it/s]\n",
      "100%|██████████| 22/22 [00:00<00:00, 214.69it/s]\n",
      "100%|██████████| 20/20 [00:00<00:00, 297.18it/s]\n",
      "  0%|          | 0/47 [00:00<?, ?it/s]"
     ]
    },
    {
     "name": "stdout",
     "output_type": "stream",
     "text": [
      "Loading subset 27: z, joint\n",
      "Loading subset 28: z, joint\n",
      "Loading subset 29: z, joint\n"
     ]
    },
    {
     "name": "stderr",
     "output_type": "stream",
     "text": [
      "100%|██████████| 47/47 [00:00<00:00, 174.80it/s]\n",
      " 26%|██▌       | 15/58 [00:00<00:00, 140.42it/s]"
     ]
    },
    {
     "name": "stdout",
     "output_type": "stream",
     "text": [
      "Loading subset 30: z, joint\n"
     ]
    },
    {
     "name": "stderr",
     "output_type": "stream",
     "text": [
      "100%|██████████| 58/58 [00:00<00:00, 157.66it/s]\n",
      " 49%|████▊     | 19/39 [00:00<00:00, 189.02it/s]"
     ]
    },
    {
     "name": "stdout",
     "output_type": "stream",
     "text": [
      "Loading subset 31: z, joint\n"
     ]
    },
    {
     "name": "stderr",
     "output_type": "stream",
     "text": [
      "100%|██████████| 39/39 [00:00<00:00, 179.24it/s]\n",
      " 23%|██▎       | 12/52 [00:00<00:00, 116.77it/s]"
     ]
    },
    {
     "name": "stdout",
     "output_type": "stream",
     "text": [
      "Loading subset 32: z, joint\n"
     ]
    },
    {
     "name": "stderr",
     "output_type": "stream",
     "text": [
      "100%|██████████| 52/52 [00:00<00:00, 163.68it/s]\n",
      " 54%|█████▎    | 15/28 [00:00<00:00, 147.17it/s]"
     ]
    },
    {
     "name": "stdout",
     "output_type": "stream",
     "text": [
      "Loading subset 33: z, joint\n"
     ]
    },
    {
     "name": "stderr",
     "output_type": "stream",
     "text": [
      "100%|██████████| 28/28 [00:00<00:00, 139.96it/s]\n",
      " 29%|██▊       | 12/42 [00:00<00:00, 119.26it/s]"
     ]
    },
    {
     "name": "stdout",
     "output_type": "stream",
     "text": [
      "Loading subset 34: z, joint\n"
     ]
    },
    {
     "name": "stderr",
     "output_type": "stream",
     "text": [
      "100%|██████████| 42/42 [00:00<00:00, 49.52it/s] \n"
     ]
    },
    {
     "name": "stdout",
     "output_type": "stream",
     "text": [
      "Converting to numpy ...\n",
      "Converting subset 0: s, joint\n",
      "Converting subset 0: z, joint\n",
      "Converting subset 1: s, joint\n",
      "Converting subset 1: z, joint\n",
      "Converting subset 2: s, joint\n",
      "Converting subset 2: z, joint\n",
      "Converting subset 3: s, joint\n",
      "Converting subset 3: z, joint\n",
      "Converting subset 4: s, joint\n",
      "Converting subset 4: z, joint\n",
      "Converting subset 5: s, joint\n",
      "Converting subset 5: z, joint\n",
      "Converting subset 6: s, joint\n",
      "Converting subset 6: z, joint\n",
      "Converting subset 7: s, joint\n",
      "Converting subset 7: z, joint\n",
      "Converting subset 8: s, joint\n",
      "Converting subset 8: z, joint\n",
      "Converting subset 9: s, joint\n",
      "Converting subset 9: z, joint\n",
      "Converting subset 10: s, joint\n",
      "Converting subset 10: z, joint\n",
      "Converting subset 11: s, joint\n",
      "Converting subset 11: z, joint\n",
      "Converting subset 12: s, joint\n",
      "Converting subset 12: z, joint\n",
      "Converting subset 13: s, joint\n",
      "Converting subset 13: z, joint\n",
      "Converting subset 14: s, joint\n",
      "Converting subset 14: z, joint\n",
      "Converting subset 15: s, joint\n",
      "Converting subset 15: z, joint\n",
      "Converting subset 16: s, joint\n",
      "Converting subset 16: z, joint\n",
      "Converting subset 17: s, joint\n",
      "Converting subset 17: z, joint\n",
      "Converting subset 18: s, joint\n",
      "Converting subset 18: z, joint\n",
      "Converting subset 19: s, joint\n",
      "Converting subset 19: z, joint\n",
      "Converting subset 20: s, joint\n",
      "Converting subset 20: z, joint\n",
      "Converting subset 21: s, joint\n",
      "Converting subset 21: z, joint\n",
      "Converting subset 22: s, joint\n",
      "Converting subset 22: z, joint\n",
      "Converting subset 23: s, joint\n",
      "Converting subset 23: z, joint\n",
      "Converting subset 24: s, joint\n",
      "Converting subset 24: z, joint\n",
      "Converting subset 25: s, joint\n",
      "Converting subset 25: z, joint\n",
      "Converting subset 26: s, joint\n",
      "Converting subset 26: z, joint\n",
      "Converting subset 27: s, joint\n",
      "Converting subset 27: z, joint\n",
      "Converting subset 28: s, joint\n",
      "Converting subset 28: z, joint\n",
      "Converting subset 29: s, joint\n",
      "Converting subset 29: z, joint\n",
      "Converting subset 30: s, joint\n",
      "Converting subset 30: z, joint\n",
      "Converting subset 31: s, joint\n",
      "Converting subset 31: z, joint\n",
      "Converting subset 32: s, joint\n",
      "Converting subset 32: z, joint\n",
      "Converting subset 33: s, joint\n",
      "Converting subset 33: z, joint\n",
      "Converting subset 34: s, joint\n",
      "Converting subset 34: z, joint\n"
     ]
    }
   ],
   "source": [
    "# load latent variables\n",
    "data_config = utils.gen_data_config(o.task)\n",
    "data_config_ref = utils.gen_data_config(o.reference)\n",
    "data_config_ref[\"raw_data_dirs\"] += data_config[\"raw_data_dirs\"]\n",
    "data_config_ref[\"raw_data_frags\"] += data_config[\"raw_data_frags\"]\n",
    "data_config_ref[\"combs\"] = data_config[\"combs\"]\n",
    "data_config_ref[\"comb_ratios\"] = data_config[\"comb_ratios\"]\n",
    "data_config_ref[\"s_joint\"] = data_config[\"s_joint\"]\n",
    "for k, v in data_config_ref.items():\n",
    "    vars(o)[k] = v\n",
    "model_config = utils.load_toml(\"configs/model.toml\")[\"default\"]\n",
    "if o.model != \"default\":\n",
    "    model_config.update(utils.load_toml(\"configs/model.toml\")[o.model])\n",
    "for k, v in model_config.items():\n",
    "    vars(o)[k] = v\n",
    "o.s_joint, o.combs, *_ = utils.gen_all_batch_ids(o.s_joint, o.combs)\n",
    "\n",
    "o.pred_dir = pj(\"result\", o.task, o.experiment, o.model, \"predict\", o.init_model)\n",
    "pred = utils.load_predicted(o, group_by=\"subset\")\n",
    "\n",
    "c = [v[\"z\"][\"joint\"][:, :o.dim_c] for v in pred.values()]\n",
    "subset_num = 34\n",
    "c_ref = np.concatenate(c[:subset_num], axis=0)\n",
    "c_query = np.concatenate(c[subset_num:], axis=0)\n",
    "c_all = np.concatenate([c_query, c_ref], axis=0)"
   ]
  },
  {
   "cell_type": "code",
   "execution_count": 4,
   "metadata": {},
   "outputs": [],
   "source": [
    "c_all = umap.UMAP(n_neighbors=30, metric=\"cosine\", min_dist=0.3, random_state=42).fit_transform(c_all)\n",
    "c_query = c_all[:len(c_query), :]"
   ]
  },
  {
   "cell_type": "code",
   "execution_count": 5,
   "metadata": {},
   "outputs": [],
   "source": [
    "# load training labels\n",
    "label_ref = np.array(utils.transpose_list(utils.load_csv(pj(\"analysis\", \"atlas_label\", \"atlas_new.csv\")))[1][1:])\n",
    "label_query = np.array([\"query\"]*c_query.shape[0])\n",
    "label_train = np.concatenate([label_query, label_ref])\n",
    "# print(\"label_train: \", np.unique(label_train))"
   ]
  },
  {
   "cell_type": "code",
   "execution_count": 6,
   "metadata": {},
   "outputs": [],
   "source": [
    "# # load ground truth labels for test\n",
    "label_gt_l1_bm = np.array(robjects.r['as.matrix'](robjects.r['readRDS']('result/analysis/bm/BM_lable_l1_l2.rds')), dtype=object)[0][2][34592:45263]\n",
    "label_gt_l1 = label_gt_l1_bm\n",
    "label_gt_l1 = np.array([re.sub(\" cell.*\", \"\", l) for l in label_gt_l1])\n",
    "# print(\"label_gt_l1: \", np.unique(label_gt_l1))"
   ]
  },
  {
   "attachments": {},
   "cell_type": "markdown",
   "metadata": {},
   "source": [
    "# Transfer labels with kNNs"
   ]
  },
  {
   "cell_type": "code",
   "execution_count": 7,
   "metadata": {},
   "outputs": [
    {
     "data": {
      "text/html": [
       "<style>#sk-container-id-1 {color: black;background-color: white;}#sk-container-id-1 pre{padding: 0;}#sk-container-id-1 div.sk-toggleable {background-color: white;}#sk-container-id-1 label.sk-toggleable__label {cursor: pointer;display: block;width: 100%;margin-bottom: 0;padding: 0.3em;box-sizing: border-box;text-align: center;}#sk-container-id-1 label.sk-toggleable__label-arrow:before {content: \"▸\";float: left;margin-right: 0.25em;color: #696969;}#sk-container-id-1 label.sk-toggleable__label-arrow:hover:before {color: black;}#sk-container-id-1 div.sk-estimator:hover label.sk-toggleable__label-arrow:before {color: black;}#sk-container-id-1 div.sk-toggleable__content {max-height: 0;max-width: 0;overflow: hidden;text-align: left;background-color: #f0f8ff;}#sk-container-id-1 div.sk-toggleable__content pre {margin: 0.2em;color: black;border-radius: 0.25em;background-color: #f0f8ff;}#sk-container-id-1 input.sk-toggleable__control:checked~div.sk-toggleable__content {max-height: 200px;max-width: 100%;overflow: auto;}#sk-container-id-1 input.sk-toggleable__control:checked~label.sk-toggleable__label-arrow:before {content: \"▾\";}#sk-container-id-1 div.sk-estimator input.sk-toggleable__control:checked~label.sk-toggleable__label {background-color: #d4ebff;}#sk-container-id-1 div.sk-label input.sk-toggleable__control:checked~label.sk-toggleable__label {background-color: #d4ebff;}#sk-container-id-1 input.sk-hidden--visually {border: 0;clip: rect(1px 1px 1px 1px);clip: rect(1px, 1px, 1px, 1px);height: 1px;margin: -1px;overflow: hidden;padding: 0;position: absolute;width: 1px;}#sk-container-id-1 div.sk-estimator {font-family: monospace;background-color: #f0f8ff;border: 1px dotted black;border-radius: 0.25em;box-sizing: border-box;margin-bottom: 0.5em;}#sk-container-id-1 div.sk-estimator:hover {background-color: #d4ebff;}#sk-container-id-1 div.sk-parallel-item::after {content: \"\";width: 100%;border-bottom: 1px solid gray;flex-grow: 1;}#sk-container-id-1 div.sk-label:hover label.sk-toggleable__label {background-color: #d4ebff;}#sk-container-id-1 div.sk-serial::before {content: \"\";position: absolute;border-left: 1px solid gray;box-sizing: border-box;top: 0;bottom: 0;left: 50%;z-index: 0;}#sk-container-id-1 div.sk-serial {display: flex;flex-direction: column;align-items: center;background-color: white;padding-right: 0.2em;padding-left: 0.2em;position: relative;}#sk-container-id-1 div.sk-item {position: relative;z-index: 1;}#sk-container-id-1 div.sk-parallel {display: flex;align-items: stretch;justify-content: center;background-color: white;position: relative;}#sk-container-id-1 div.sk-item::before, #sk-container-id-1 div.sk-parallel-item::before {content: \"\";position: absolute;border-left: 1px solid gray;box-sizing: border-box;top: 0;bottom: 0;left: 50%;z-index: -1;}#sk-container-id-1 div.sk-parallel-item {display: flex;flex-direction: column;z-index: 1;position: relative;background-color: white;}#sk-container-id-1 div.sk-parallel-item:first-child::after {align-self: flex-end;width: 50%;}#sk-container-id-1 div.sk-parallel-item:last-child::after {align-self: flex-start;width: 50%;}#sk-container-id-1 div.sk-parallel-item:only-child::after {width: 0;}#sk-container-id-1 div.sk-dashed-wrapped {border: 1px dashed gray;margin: 0 0.4em 0.5em 0.4em;box-sizing: border-box;padding-bottom: 0.4em;background-color: white;}#sk-container-id-1 div.sk-label label {font-family: monospace;font-weight: bold;display: inline-block;line-height: 1.2em;}#sk-container-id-1 div.sk-label-container {text-align: center;}#sk-container-id-1 div.sk-container {/* jupyter's `normalize.less` sets `[hidden] { display: none; }` but bootstrap.min.css set `[hidden] { display: none !important; }` so we also need the `!important` here to be able to override the default hidden behavior on the sphinx rendered scikit-learn.org. See: https://github.com/scikit-learn/scikit-learn/issues/21755 */display: inline-block !important;position: relative;}#sk-container-id-1 div.sk-text-repr-fallback {display: none;}</style><div id=\"sk-container-id-1\" class=\"sk-top-container\"><div class=\"sk-text-repr-fallback\"><pre>KNeighborsClassifier(n_neighbors=100)</pre><b>In a Jupyter environment, please rerun this cell to show the HTML representation or trust the notebook. <br />On GitHub, the HTML representation is unable to render, please try loading this page with nbviewer.org.</b></div><div class=\"sk-container\" hidden><div class=\"sk-item\"><div class=\"sk-estimator sk-toggleable\"><input class=\"sk-toggleable__control sk-hidden--visually\" id=\"sk-estimator-id-1\" type=\"checkbox\" checked><label for=\"sk-estimator-id-1\" class=\"sk-toggleable__label sk-toggleable__label-arrow\">KNeighborsClassifier</label><div class=\"sk-toggleable__content\"><pre>KNeighborsClassifier(n_neighbors=100)</pre></div></div></div></div></div>"
      ],
      "text/plain": [
       "KNeighborsClassifier(n_neighbors=100)"
      ]
     },
     "execution_count": 7,
     "metadata": {},
     "output_type": "execute_result"
    }
   ],
   "source": [
    "knn = KNeighborsClassifier(n_neighbors=100, weights='uniform')\n",
    "knn.fit(c_all, label_train)"
   ]
  },
  {
   "cell_type": "code",
   "execution_count": 8,
   "metadata": {},
   "outputs": [
    {
     "data": {
      "text/plain": [
       "<AxesSubplot:ylabel='Count'>"
      ]
     },
     "execution_count": 8,
     "metadata": {},
     "output_type": "execute_result"
    },
    {
     "data": {
      "image/png": "[encoded data removed]",
      "text/plain": [
       "<Figure size 640x480 with 1 Axes>"
      ]
     },
     "metadata": {},
     "output_type": "display_data"
    }
   ],
   "source": [
    "def predict_batch(X, knn_model):\n",
    "    return knn_model.predict(X)\n",
    "\n",
    "def predict_prob_batch(X, knn_model):\n",
    "    return knn_model.predict_proba(X)\n",
    "\n",
    "def knn_predict_par(X, knn_model, num_cores):\n",
    "    X_batches = np.array_split(X, num_cores)\n",
    "    with Parallel(n_jobs=num_cores, backend=\"threading\") as parallel:\n",
    "        results = parallel(delayed(predict_batch)(X_batch, knn_model) for X_batch in X_batches)\n",
    "    return np.concatenate(results)\n",
    "\n",
    "def knn_predict_prob_par(X, knn_model, num_cores):\n",
    "    X_batches = np.array_split(X, num_cores)\n",
    "    with Parallel(n_jobs=num_cores, backend=\"threading\") as parallel:\n",
    "        results = parallel(delayed(predict_prob_batch)(X_batch, knn_model) for X_batch in X_batches)\n",
    "    return np.concatenate(results)\n",
    "\n",
    "prob_pred = knn_predict_prob_par(c_query, knn, 72)\n",
    "pred_label = knn_predict_par(c_query, knn, 72)\n",
    "prob_pred_unknown = prob_pred[:, -1]\n",
    "sns.histplot(data=prob_pred_unknown, bins=200)"
   ]
  },
  {
   "cell_type": "code",
   "execution_count": 9,
   "metadata": {},
   "outputs": [],
   "source": [
    "progenitor = (label_gt_l1 == \"Progenitor\")\n",
    "unknown_cell = progenitor"
   ]
  },
  {
   "cell_type": "code",
   "execution_count": 11,
   "metadata": {},
   "outputs": [
    {
     "name": "stdout",
     "output_type": "stream",
     "text": [
      "{'init_model': '', 'f1': 0.14701344500771435, 'thresh': 0.85}\n"
     ]
    }
   ],
   "source": [
    "f1= []\n",
    "unknown = (prob_pred_unknown > 0.85)\n",
    "f1.append(f1_score(unknown_cell, unknown, average='binary'))\n",
    "i = np.argmax(f1)\n",
    "final_f1 = {\"init_model\": o.init_model, \"f1\": f1[i], \"thresh\": 0.85}\n",
    "print(final_f1)\n",
    "\n",
    "result_dir = pj(\"result\", \"comparison\", o.task, o.method, o.experiment, o.model, o.init_model)\n",
    "utils.mkdirs(result_dir, remove_old=False)\n",
    "utils.save_toml(final_f1, pj(result_dir, \"final_f1.toml\"))"
   ]
  },
  {
   "cell_type": "code",
   "execution_count": 11,
   "metadata": {},
   "outputs": [
    {
     "name": "stdout",
     "output_type": "stream",
     "text": [
      "{'init_model': '', 'f1': 0.2746696654484116, 'thresh': 0.85}\n"
     ]
    }
   ],
   "source": [
    "f1= []\n",
    "unknown = (prob_pred_unknown > 0.85)\n",
    "f1.append(f1_score(unknown_cell, unknown, average='micro'))\n",
    "i = np.argmax(f1)\n",
    "final_f1 = {\"init_model\": o.init_model, \"f1\": f1[i], \"thresh\": 0.85}\n",
    "print(final_f1)"
   ]
  },
  {
   "cell_type": "code",
   "execution_count": 12,
   "metadata": {},
   "outputs": [],
   "source": [
    "label_pred = knn.classes_[np.argmax(prob_pred[:, :-1], axis = 1)]\n",
    "label_pred[prob_pred_unknown > 0.85] = \"Unknown\" # confusion\n",
    "\n",
    "utils.save_list_to_csv([list(line) for line in list(label_pred.reshape(-1, 1))], pj(result_dir, \"label_transferred.csv\"))\n",
    "utils.save_list_to_csv([list(line) for line in list(label_gt_l1.reshape(-1, 1))], pj(result_dir, \"label_gt.csv\"))"
   ]
  }
 ],
 "metadata": {
  "kernelspec": {
   "display_name": "Python 3.8.8 ('base')",
   "language": "python",
   "name": "python3"
  },
  "language_info": {
   "codemirror_mode": {
    "name": "ipython",
    "version": 3
   },
   "file_extension": ".py",
   "mimetype": "text/x-python",
   "name": "python",
   "nbconvert_exporter": "python",
   "pygments_lexer": "ipython3",
   "version": "3.8.8"
  },
  "vscode": {
   "interpreter": {
    "hash": "61a57a4b5406d2de388e2f91097d4e4bcd7d5f4a46f53a795aa28a02eed27fc5"
   }
  }
 },
 "nbformat": 4,
 "nbformat_minor": 2
}
