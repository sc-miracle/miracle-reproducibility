{
 "cells": [
  {
   "cell_type": "code",
   "execution_count": 1,
   "metadata": {},
   "outputs": [
    {
     "name": "stderr",
     "output_type": "stream",
     "text": [
      "2024-01-06 06:30:41.158487: I tensorflow/stream_executor/platform/default/dso_loader.cc:53] Successfully opened dynamic library libcudart.so.11.0\n"
     ]
    }
   ],
   "source": [
    "import os\n",
    "os.chdir(\"/root/workspace/wj/Workspace/Vscode_Workspace/single-cell-continue/MIRACLE-master/\")\n",
    "from os.path import join as pj\n",
    "import argparse\n",
    "import sys\n",
    "sys.path.append(\"modules\")\n",
    "import utils\n",
    "import numpy as np\n",
    "from sklearn.neighbors import KNeighborsClassifier\n",
    "from sklearn.metrics import confusion_matrix, f1_score, roc_auc_score\n",
    "import seaborn as sns\n",
    "from joblib import Parallel, delayed\n",
    "import rpy2.robjects as robjects\n",
    "import umap\n",
    "import re\n",
    "import matplotlib.pyplot as plt\n",
    "from sklearn import metrics\n",
    "import scanpy as sc\n",
    "import pandas as pd\n",
    "import csv"
   ]
  },
  {
   "cell_type": "code",
   "execution_count": 2,
   "metadata": {},
   "outputs": [],
   "source": [
    "parser = argparse.ArgumentParser()\n",
    "parser.add_argument('--task', type=str, default='single_asap_cl')\n",
    "parser.add_argument('--reference', type=str, default='atlas_new_no_neap')\n",
    "parser.add_argument('--experiment', type=str, default='c_1')\n",
    "parser.add_argument('--model', type=str, default='default')\n",
    "parser.add_argument('--init_model', type=str, default='')\n",
    "parser.add_argument('--init_model_ref', type=str, default='sp_latest')\n",
    "parser.add_argument('--method', type=str, default='midas_embed')\n",
    "o, _ = parser.parse_known_args()  # for python interactive\n",
    "# o = parser.parse_args()"
   ]
  },
  {
   "cell_type": "code",
   "execution_count": 3,
   "metadata": {},
   "outputs": [
    {
     "name": "stderr",
     "output_type": "stream",
     "text": [
      "100%|██████████| 29/29 [00:00<00:00, 229.98it/s]\n",
      "  0%|          | 0/24 [00:00<?, ?it/s]"
     ]
    },
    {
     "name": "stdout",
     "output_type": "stream",
     "text": [
      "Loading predicted variables ...\n",
      "Loading subset 0: z, joint\n",
      "Loading subset 1: z, joint\n"
     ]
    },
    {
     "name": "stderr",
     "output_type": "stream",
     "text": [
      "100%|██████████| 24/24 [00:00<00:00, 243.59it/s]\n",
      " 48%|████▊     | 19/40 [00:00<00:00, 186.96it/s]"
     ]
    },
    {
     "name": "stdout",
     "output_type": "stream",
     "text": [
      "Loading subset 2: z, joint\n"
     ]
    },
    {
     "name": "stderr",
     "output_type": "stream",
     "text": [
      "100%|██████████| 40/40 [00:00<00:00, 164.59it/s]\n",
      "100%|██████████| 38/38 [00:00<00:00, 196.87it/s]"
     ]
    },
    {
     "name": "stdout",
     "output_type": "stream",
     "text": [
      "Loading subset 3: z, joint\n"
     ]
    },
    {
     "name": "stderr",
     "output_type": "stream",
     "text": [
      "\n",
      "100%|██████████| 29/29 [00:00<00:00, 224.42it/s]\n",
      "  0%|          | 0/26 [00:00<?, ?it/s]"
     ]
    },
    {
     "name": "stdout",
     "output_type": "stream",
     "text": [
      "Loading subset 4: z, joint\n",
      "Loading subset 5: z, joint\n"
     ]
    },
    {
     "name": "stderr",
     "output_type": "stream",
     "text": [
      "100%|██████████| 26/26 [00:00<00:00, 200.46it/s]\n",
      "100%|██████████| 27/27 [00:00<00:00, 201.36it/s]\n",
      "  0%|          | 0/27 [00:00<?, ?it/s]"
     ]
    },
    {
     "name": "stdout",
     "output_type": "stream",
     "text": [
      "Loading subset 6: z, joint\n",
      "Loading subset 7: z, joint\n"
     ]
    },
    {
     "name": "stderr",
     "output_type": "stream",
     "text": [
      "100%|██████████| 27/27 [00:00<00:00, 275.83it/s]\n",
      "100%|██████████| 28/28 [00:00<00:00, 296.18it/s]\n",
      "100%|██████████| 24/24 [00:00<00:00, 246.46it/s]"
     ]
    },
    {
     "name": "stdout",
     "output_type": "stream",
     "text": [
      "Loading subset 8: z, joint\n",
      "Loading subset 9: z, joint\n"
     ]
    },
    {
     "name": "stderr",
     "output_type": "stream",
     "text": [
      "\n",
      "100%|██████████| 29/29 [00:00<00:00, 201.12it/s]\n",
      "  0%|          | 0/39 [00:00<?, ?it/s]"
     ]
    },
    {
     "name": "stdout",
     "output_type": "stream",
     "text": [
      "Loading subset 10: z, joint\n",
      "Loading subset 11: z, joint\n"
     ]
    },
    {
     "name": "stderr",
     "output_type": "stream",
     "text": [
      "100%|██████████| 39/39 [00:00<00:00, 171.14it/s]\n",
      "100%|██████████| 38/38 [00:00<00:00, 223.33it/s]\n",
      "  0%|          | 0/44 [00:00<?, ?it/s]"
     ]
    },
    {
     "name": "stdout",
     "output_type": "stream",
     "text": [
      "Loading subset 12: z, joint\n",
      "Loading subset 13: z, joint\n"
     ]
    },
    {
     "name": "stderr",
     "output_type": "stream",
     "text": [
      "100%|██████████| 44/44 [00:00<00:00, 182.44it/s]\n",
      "  0%|          | 0/11 [00:00<?, ?it/s]"
     ]
    },
    {
     "name": "stdout",
     "output_type": "stream",
     "text": [
      "Loading subset 14: z, joint\n"
     ]
    },
    {
     "name": "stderr",
     "output_type": "stream",
     "text": [
      "100%|██████████| 11/11 [00:00<00:00, 24.88it/s]\n",
      "100%|██████████| 25/25 [00:00<00:00, 202.94it/s]\n",
      "  0%|          | 0/24 [00:00<?, ?it/s]"
     ]
    },
    {
     "name": "stdout",
     "output_type": "stream",
     "text": [
      "Loading subset 15: z, joint\n",
      "Loading subset 16: z, joint\n"
     ]
    },
    {
     "name": "stderr",
     "output_type": "stream",
     "text": [
      "100%|██████████| 24/24 [00:00<00:00, 191.21it/s]\n",
      "100%|██████████| 19/19 [00:00<00:00, 195.68it/s]\n",
      "100%|██████████| 21/21 [00:00<00:00, 249.87it/s]\n",
      "  0%|          | 0/28 [00:00<?, ?it/s]"
     ]
    },
    {
     "name": "stdout",
     "output_type": "stream",
     "text": [
      "Loading subset 17: z, joint\n",
      "Loading subset 18: z, joint\n",
      "Loading subset 19: z, joint\n"
     ]
    },
    {
     "name": "stderr",
     "output_type": "stream",
     "text": [
      "100%|██████████| 28/28 [00:00<00:00, 241.54it/s]\n",
      "100%|██████████| 24/24 [00:00<00:00, 232.56it/s]\n",
      "  0%|          | 0/35 [00:00<?, ?it/s]"
     ]
    },
    {
     "name": "stdout",
     "output_type": "stream",
     "text": [
      "Loading subset 20: z, joint\n",
      "Loading subset 21: z, joint\n"
     ]
    },
    {
     "name": "stderr",
     "output_type": "stream",
     "text": [
      "100%|██████████| 35/35 [00:00<00:00, 207.89it/s]\n",
      " 49%|████▊     | 17/35 [00:00<00:00, 157.73it/s]"
     ]
    },
    {
     "name": "stdout",
     "output_type": "stream",
     "text": [
      "Loading subset 22: z, joint\n"
     ]
    },
    {
     "name": "stderr",
     "output_type": "stream",
     "text": [
      "100%|██████████| 35/35 [00:00<00:00, 169.20it/s]\n",
      " 49%|████▉     | 23/47 [00:00<00:00, 228.56it/s]"
     ]
    },
    {
     "name": "stdout",
     "output_type": "stream",
     "text": [
      "Loading subset 23: z, joint\n"
     ]
    },
    {
     "name": "stderr",
     "output_type": "stream",
     "text": [
      "100%|██████████| 47/47 [00:00<00:00, 217.24it/s]\n",
      " 45%|████▍     | 26/58 [00:00<00:00, 258.41it/s]"
     ]
    },
    {
     "name": "stdout",
     "output_type": "stream",
     "text": [
      "Loading subset 24: z, joint\n"
     ]
    },
    {
     "name": "stderr",
     "output_type": "stream",
     "text": [
      "100%|██████████| 58/58 [00:00<00:00, 266.94it/s]\n",
      "100%|██████████| 39/39 [00:00<00:00, 248.97it/s]\n",
      "  0%|          | 0/52 [00:00<?, ?it/s]"
     ]
    },
    {
     "name": "stdout",
     "output_type": "stream",
     "text": [
      "Loading subset 25: z, joint\n",
      "Loading subset 26: z, joint\n"
     ]
    },
    {
     "name": "stderr",
     "output_type": "stream",
     "text": [
      "100%|██████████| 52/52 [00:00<00:00, 210.95it/s]\n",
      "100%|██████████| 28/28 [00:00<00:00, 255.38it/s]\n",
      "100%|██████████| 17/17 [00:00<00:00, 267.24it/s]\n",
      "  0%|          | 0/21 [00:00<?, ?it/s]"
     ]
    },
    {
     "name": "stdout",
     "output_type": "stream",
     "text": [
      "Loading subset 27: z, joint\n",
      "Loading subset 28: z, joint\n",
      "Loading subset 29: z, joint\n"
     ]
    },
    {
     "name": "stderr",
     "output_type": "stream",
     "text": [
      "100%|██████████| 21/21 [00:00<00:00, 224.20it/s]\n"
     ]
    },
    {
     "name": "stdout",
     "output_type": "stream",
     "text": [
      "Converting to numpy ...\n",
      "Converting subset 0: s, joint\n",
      "Converting subset 0: z, joint\n",
      "Converting subset 1: s, joint\n",
      "Converting subset 1: z, joint\n",
      "Converting subset 2: s, joint\n",
      "Converting subset 2: z, joint\n",
      "Converting subset 3: s, joint\n",
      "Converting subset 3: z, joint\n",
      "Converting subset 4: s, joint\n",
      "Converting subset 4: z, joint\n",
      "Converting subset 5: s, joint\n",
      "Converting subset 5: z, joint\n",
      "Converting subset 6: s, joint\n",
      "Converting subset 6: z, joint\n",
      "Converting subset 7: s, joint\n",
      "Converting subset 7: z, joint\n",
      "Converting subset 8: s, joint\n",
      "Converting subset 8: z, joint\n",
      "Converting subset 9: s, joint\n",
      "Converting subset 9: z, joint\n",
      "Converting subset 10: s, joint\n",
      "Converting subset 10: z, joint\n",
      "Converting subset 11: s, joint\n",
      "Converting subset 11: z, joint\n",
      "Converting subset 12: s, joint\n",
      "Converting subset 12: z, joint\n",
      "Converting subset 13: s, joint\n",
      "Converting subset 13: z, joint\n",
      "Converting subset 14: s, joint\n",
      "Converting subset 14: z, joint\n",
      "Converting subset 15: s, joint\n",
      "Converting subset 15: z, joint\n",
      "Converting subset 16: s, joint\n",
      "Converting subset 16: z, joint\n",
      "Converting subset 17: s, joint\n",
      "Converting subset 17: z, joint\n",
      "Converting subset 18: s, joint\n",
      "Converting subset 18: z, joint\n",
      "Converting subset 19: s, joint\n",
      "Converting subset 19: z, joint\n",
      "Converting subset 20: s, joint\n",
      "Converting subset 20: z, joint\n",
      "Converting subset 21: s, joint\n",
      "Converting subset 21: z, joint\n",
      "Converting subset 22: s, joint\n",
      "Converting subset 22: z, joint\n",
      "Converting subset 23: s, joint\n",
      "Converting subset 23: z, joint\n",
      "Converting subset 24: s, joint\n",
      "Converting subset 24: z, joint\n",
      "Converting subset 25: s, joint\n",
      "Converting subset 25: z, joint\n",
      "Converting subset 26: s, joint\n",
      "Converting subset 26: z, joint\n",
      "Converting subset 27: s, joint\n",
      "Converting subset 27: z, joint\n",
      "Converting subset 28: s, joint\n",
      "Converting subset 28: z, joint\n",
      "Converting subset 29: s, joint\n",
      "Converting subset 29: z, joint\n"
     ]
    }
   ],
   "source": [
    "# load latent variables\n",
    "data_config = utils.gen_data_config(o.task)\n",
    "data_config_ref = utils.gen_data_config(o.reference)\n",
    "data_config_ref[\"raw_data_dirs\"] += data_config[\"raw_data_dirs\"]\n",
    "data_config_ref[\"raw_data_frags\"] += data_config[\"raw_data_frags\"]\n",
    "data_config_ref[\"combs\"] = data_config[\"combs\"]\n",
    "data_config_ref[\"comb_ratios\"] = data_config[\"comb_ratios\"]\n",
    "data_config_ref[\"s_joint\"] = data_config[\"s_joint\"]\n",
    "for k, v in data_config_ref.items():\n",
    "    vars(o)[k] = v\n",
    "model_config = utils.load_toml(\"configs/model.toml\")[\"default\"]\n",
    "if o.model != \"default\":\n",
    "    model_config.update(utils.load_toml(\"configs/model.toml\")[o.model])\n",
    "for k, v in model_config.items():\n",
    "    vars(o)[k] = v\n",
    "o.s_joint, o.combs, *_ = utils.gen_all_batch_ids(o.s_joint, o.combs)\n",
    "\n",
    "o.pred_dir = pj(\"result\", o.task, o.experiment, o.model, \"predict\", o.init_model)\n",
    "pred = utils.load_predicted(o, group_by=\"subset\")\n",
    "\n",
    "c = [v[\"z\"][\"joint\"][:, :o.dim_c] for v in pred.values()]\n",
    "subset_num = 28\n",
    "c_ref = np.concatenate(c[:subset_num], axis=0)\n",
    "c_query = np.concatenate(c[subset_num:], axis=0)\n",
    "c_all = np.concatenate([c_query, c_ref], axis=0)"
   ]
  },
  {
   "cell_type": "code",
   "execution_count": 4,
   "metadata": {},
   "outputs": [],
   "source": [
    "label_atlas = np.array(utils.transpose_list(utils.load_csv(pj(\"analysis\", \"atlas_label\", \"atlas_new.csv\")))[1][1:])\n",
    "label_atlas = np.concatenate([label_atlas[:114343], label_atlas[132554:185518], label_atlas[196042:], label_atlas[114343:123839]], axis=0)\n",
    "label_gt = label_atlas[:len(c_ref)]\n",
    "label_query = label_atlas[len(c_ref):]"
   ]
  },
  {
   "cell_type": "code",
   "execution_count": 5,
   "metadata": {},
   "outputs": [
    {
     "name": "stdout",
     "output_type": "stream",
     "text": [
      "20  f1:  0.9299705139005897\n"
     ]
    }
   ],
   "source": [
    "knn = KNeighborsClassifier(n_neighbors=20, weights='distance')\n",
    "knn.fit(c_ref, label_gt)\n",
    "label_pred = knn.predict(c_query)\n",
    "label_query_keys = np.unique(label_query)\n",
    "label_pred_keys = np.unique(label_pred)\n",
    "results = {}\n",
    "results[\"confusion\"] = confusion_matrix(label_query, label_pred, labels=label_query_keys)\n",
    "results[\"f1\"] = f1_score(label_query, label_pred, average='micro')\n",
    "print(20, \" f1: \", results[\"f1\"])"
   ]
  },
  {
   "cell_type": "code",
   "execution_count": 6,
   "metadata": {},
   "outputs": [],
   "source": [
    "result_dir = pj(\"result\", \"comparison\", o.task, o.method, o.experiment, o.model, o.init_model)\n",
    "utils.mkdirs(result_dir, remove_old=False)\n",
    "utils.save_list_to_csv([list(line) for line in list(label_pred.reshape(-1, 1))], pj(result_dir, \"label_transferred.csv\"))\n",
    "utils.save_list_to_csv([list(line) for line in list(label_query.reshape(-1, 1))], pj(result_dir, \"label_gt.csv\"))"
   ]
  }
 ],
 "metadata": {
  "kernelspec": {
   "display_name": "base",
   "language": "python",
   "name": "python3"
  },
  "language_info": {
   "codemirror_mode": {
    "name": "ipython",
    "version": 3
   },
   "file_extension": ".py",
   "mimetype": "text/x-python",
   "name": "python",
   "nbconvert_exporter": "python",
   "pygments_lexer": "ipython3",
   "version": "3.8.8"
  },
  "orig_nbformat": 4
 },
 "nbformat": 4,
 "nbformat_minor": 2
}
